{
  "nbformat": 4,
  "nbformat_minor": 0,
  "metadata": {
    "colab": {
      "provenance": [],
      "authorship_tag": "ABX9TyMzVeVRAejG9SDV1EKVLzDW",
      "include_colab_link": true
    },
    "kernelspec": {
      "name": "python3",
      "display_name": "Python 3"
    },
    "language_info": {
      "name": "python"
    },
    "gpuClass": "standard"
  },
  "cells": [
    {
      "cell_type": "markdown",
      "metadata": {
        "id": "view-in-github",
        "colab_type": "text"
      },
      "source": [
        "<a href=\"https://colab.research.google.com/github/FranklineMisango/Deep_Learning_Projects/blob/main/LimeLocale_Finance_NLP_Beta.ipynb\" target=\"_parent\"><img src=\"https://colab.research.google.com/assets/colab-badge.svg\" alt=\"Open In Colab\"/></a>"
      ]
    },
    {
      "cell_type": "markdown",
      "source": [
        "#This project encompasses the LimeLocale's Finance API beta official AI that assists the team in Research in payment patterns in Fintech\n",
        "#As a starting step, It currently automates the Team's research on Stock and Crypto in China's GBA"
      ],
      "metadata": {
        "id": "RNWlhDHZI60l"
      }
    },
    {
      "cell_type": "code",
      "execution_count": 1,
      "metadata": {
        "id": "Mi9OnOf0IQKf",
        "colab": {
          "base_uri": "https://localhost:8080/"
        },
        "outputId": "bbbf3c87-0f93-4563-907a-ffd414206a2b"
      },
      "outputs": [
        {
          "output_type": "stream",
          "name": "stdout",
          "text": [
            "Looking in indexes: https://pypi.org/simple, https://us-python.pkg.dev/colab-wheels/public/simple/\n",
            "Collecting transformers\n",
            "  Downloading transformers-4.26.1-py3-none-any.whl (6.3 MB)\n",
            "\u001b[2K     \u001b[90m━━━━━━━━━━━━━━━━━━━━━━━━━━━━━━━━━━━━━━━━\u001b[0m \u001b[32m6.3/6.3 MB\u001b[0m \u001b[31m40.6 MB/s\u001b[0m eta \u001b[36m0:00:00\u001b[0m\n",
            "\u001b[?25hRequirement already satisfied: packaging>=20.0 in /usr/local/lib/python3.9/dist-packages (from transformers) (23.0)\n",
            "Requirement already satisfied: numpy>=1.17 in /usr/local/lib/python3.9/dist-packages (from transformers) (1.22.4)\n",
            "Requirement already satisfied: requests in /usr/local/lib/python3.9/dist-packages (from transformers) (2.25.1)\n",
            "Collecting huggingface-hub<1.0,>=0.11.0\n",
            "  Downloading huggingface_hub-0.13.1-py3-none-any.whl (199 kB)\n",
            "\u001b[2K     \u001b[90m━━━━━━━━━━━━━━━━━━━━━━━━━━━━━━━━━━━━━━━\u001b[0m \u001b[32m199.2/199.2 KB\u001b[0m \u001b[31m8.7 MB/s\u001b[0m eta \u001b[36m0:00:00\u001b[0m\n",
            "\u001b[?25hRequirement already satisfied: filelock in /usr/local/lib/python3.9/dist-packages (from transformers) (3.9.0)\n",
            "Collecting tokenizers!=0.11.3,<0.14,>=0.11.1\n",
            "  Downloading tokenizers-0.13.2-cp39-cp39-manylinux_2_17_x86_64.manylinux2014_x86_64.whl (7.6 MB)\n",
            "\u001b[2K     \u001b[90m━━━━━━━━━━━━━━━━━━━━━━━━━━━━━━━━━━━━━━━━\u001b[0m \u001b[32m7.6/7.6 MB\u001b[0m \u001b[31m13.6 MB/s\u001b[0m eta \u001b[36m0:00:00\u001b[0m\n",
            "\u001b[?25hRequirement already satisfied: tqdm>=4.27 in /usr/local/lib/python3.9/dist-packages (from transformers) (4.65.0)\n",
            "Requirement already satisfied: pyyaml>=5.1 in /usr/local/lib/python3.9/dist-packages (from transformers) (6.0)\n",
            "Requirement already satisfied: regex!=2019.12.17 in /usr/local/lib/python3.9/dist-packages (from transformers) (2022.6.2)\n",
            "Requirement already satisfied: typing-extensions>=3.7.4.3 in /usr/local/lib/python3.9/dist-packages (from huggingface-hub<1.0,>=0.11.0->transformers) (4.5.0)\n",
            "Requirement already satisfied: certifi>=2017.4.17 in /usr/local/lib/python3.9/dist-packages (from requests->transformers) (2022.12.7)\n",
            "Requirement already satisfied: idna<3,>=2.5 in /usr/local/lib/python3.9/dist-packages (from requests->transformers) (2.10)\n",
            "Requirement already satisfied: urllib3<1.27,>=1.21.1 in /usr/local/lib/python3.9/dist-packages (from requests->transformers) (1.26.14)\n",
            "Requirement already satisfied: chardet<5,>=3.0.2 in /usr/local/lib/python3.9/dist-packages (from requests->transformers) (4.0.0)\n",
            "Installing collected packages: tokenizers, huggingface-hub, transformers\n",
            "Successfully installed huggingface-hub-0.13.1 tokenizers-0.13.2 transformers-4.26.1\n"
          ]
        }
      ],
      "source": [
        "#Baseline_Setup_and_dependencies\n",
        "#Pegasus Tokenizer, NLP for summarization\n",
        "#BS4 scraps the web for news\n",
        "!pip install transformers\n",
        "import requests\n",
        "import re\n",
        "from transformers import PegasusTokenizer, PegasusForConditionalGeneration, TFPegasusForConditionalGeneration\n",
        "from bs4 import BeautifulSoup\n",
        "from transformers import pipeline\n"
      ]
    },
    {
      "cell_type": "code",
      "source": [
        "#Loading and saving the summarization models  from the Hugging face model\n",
        "from transformers import AutoTokenizer, AutoModelForSeq2SeqLM\n",
        "tokenizer = AutoTokenizer.from_pretrained(\"human-centered-summarization/financial-summarization-pegasus\")\n",
        "model = AutoModelForSeq2SeqLM.from_pretrained(\"human-centered-summarization/financial-summarization-pegasus\")"
      ],
      "metadata": {
        "colab": {
          "base_uri": "https://localhost:8080/",
          "height": 451
        },
        "id": "PXZTunCGKM-v",
        "outputId": "46f8b768-2fdf-4f4b-9fe8-07ce92237842"
      },
      "execution_count": 9,
      "outputs": [
        {
          "output_type": "error",
          "ename": "ValueError",
          "evalue": "ignored",
          "traceback": [
            "\u001b[0;31m---------------------------------------------------------------------------\u001b[0m",
            "\u001b[0;31mValueError\u001b[0m                                Traceback (most recent call last)",
            "\u001b[0;32m<ipython-input-9-592a29576b54>\u001b[0m in \u001b[0;36m<module>\u001b[0;34m\u001b[0m\n\u001b[1;32m      1\u001b[0m \u001b[0;31m#Loading and saving the summarization models  from the Hugging face model\u001b[0m\u001b[0;34m\u001b[0m\u001b[0;34m\u001b[0m\u001b[0m\n\u001b[1;32m      2\u001b[0m \u001b[0;32mfrom\u001b[0m \u001b[0mtransformers\u001b[0m \u001b[0;32mimport\u001b[0m \u001b[0mAutoTokenizer\u001b[0m\u001b[0;34m,\u001b[0m \u001b[0mAutoModelForSeq2SeqLM\u001b[0m\u001b[0;34m\u001b[0m\u001b[0;34m\u001b[0m\u001b[0m\n\u001b[0;32m----> 3\u001b[0;31m \u001b[0mtokenizer\u001b[0m \u001b[0;34m=\u001b[0m \u001b[0mAutoTokenizer\u001b[0m\u001b[0;34m.\u001b[0m\u001b[0mfrom_pretrained\u001b[0m\u001b[0;34m(\u001b[0m\u001b[0;34m\"human-centered-summarization/financial-summarization-pegasus\"\u001b[0m\u001b[0;34m)\u001b[0m\u001b[0;34m\u001b[0m\u001b[0;34m\u001b[0m\u001b[0m\n\u001b[0m\u001b[1;32m      4\u001b[0m \u001b[0mmodel\u001b[0m \u001b[0;34m=\u001b[0m \u001b[0mAutoModelForSeq2SeqLM\u001b[0m\u001b[0;34m.\u001b[0m\u001b[0mfrom_pretrained\u001b[0m\u001b[0;34m(\u001b[0m\u001b[0;34m\"human-centered-summarization/financial-summarization-pegasus\"\u001b[0m\u001b[0;34m)\u001b[0m\u001b[0;34m\u001b[0m\u001b[0;34m\u001b[0m\u001b[0m\n",
            "\u001b[0;32m/usr/local/lib/python3.9/dist-packages/transformers/models/auto/tokenization_auto.py\u001b[0m in \u001b[0;36mfrom_pretrained\u001b[0;34m(cls, pretrained_model_name_or_path, *inputs, **kwargs)\u001b[0m\n\u001b[1;32m    674\u001b[0m             \u001b[0mtokenizer_class_py\u001b[0m\u001b[0;34m,\u001b[0m \u001b[0mtokenizer_class_fast\u001b[0m \u001b[0;34m=\u001b[0m \u001b[0mTOKENIZER_MAPPING\u001b[0m\u001b[0;34m[\u001b[0m\u001b[0mtype\u001b[0m\u001b[0;34m(\u001b[0m\u001b[0mconfig\u001b[0m\u001b[0;34m)\u001b[0m\u001b[0;34m]\u001b[0m\u001b[0;34m\u001b[0m\u001b[0;34m\u001b[0m\u001b[0m\n\u001b[1;32m    675\u001b[0m             \u001b[0;32mif\u001b[0m \u001b[0mtokenizer_class_fast\u001b[0m \u001b[0;32mand\u001b[0m \u001b[0;34m(\u001b[0m\u001b[0muse_fast\u001b[0m \u001b[0;32mor\u001b[0m \u001b[0mtokenizer_class_py\u001b[0m \u001b[0;32mis\u001b[0m \u001b[0;32mNone\u001b[0m\u001b[0;34m)\u001b[0m\u001b[0;34m:\u001b[0m\u001b[0;34m\u001b[0m\u001b[0;34m\u001b[0m\u001b[0m\n\u001b[0;32m--> 676\u001b[0;31m                 \u001b[0;32mreturn\u001b[0m \u001b[0mtokenizer_class_fast\u001b[0m\u001b[0;34m.\u001b[0m\u001b[0mfrom_pretrained\u001b[0m\u001b[0;34m(\u001b[0m\u001b[0mpretrained_model_name_or_path\u001b[0m\u001b[0;34m,\u001b[0m \u001b[0;34m*\u001b[0m\u001b[0minputs\u001b[0m\u001b[0;34m,\u001b[0m \u001b[0;34m**\u001b[0m\u001b[0mkwargs\u001b[0m\u001b[0;34m)\u001b[0m\u001b[0;34m\u001b[0m\u001b[0;34m\u001b[0m\u001b[0m\n\u001b[0m\u001b[1;32m    677\u001b[0m             \u001b[0;32melse\u001b[0m\u001b[0;34m:\u001b[0m\u001b[0;34m\u001b[0m\u001b[0;34m\u001b[0m\u001b[0m\n\u001b[1;32m    678\u001b[0m                 \u001b[0;32mif\u001b[0m \u001b[0mtokenizer_class_py\u001b[0m \u001b[0;32mis\u001b[0m \u001b[0;32mnot\u001b[0m \u001b[0;32mNone\u001b[0m\u001b[0;34m:\u001b[0m\u001b[0;34m\u001b[0m\u001b[0;34m\u001b[0m\u001b[0m\n",
            "\u001b[0;32m/usr/local/lib/python3.9/dist-packages/transformers/tokenization_utils_base.py\u001b[0m in \u001b[0;36mfrom_pretrained\u001b[0;34m(cls, pretrained_model_name_or_path, *init_inputs, **kwargs)\u001b[0m\n\u001b[1;32m   1802\u001b[0m                 \u001b[0mlogger\u001b[0m\u001b[0;34m.\u001b[0m\u001b[0minfo\u001b[0m\u001b[0;34m(\u001b[0m\u001b[0;34mf\"loading file {file_path} from cache at {resolved_vocab_files[file_id]}\"\u001b[0m\u001b[0;34m)\u001b[0m\u001b[0;34m\u001b[0m\u001b[0;34m\u001b[0m\u001b[0m\n\u001b[1;32m   1803\u001b[0m \u001b[0;34m\u001b[0m\u001b[0m\n\u001b[0;32m-> 1804\u001b[0;31m         return cls._from_pretrained(\n\u001b[0m\u001b[1;32m   1805\u001b[0m             \u001b[0mresolved_vocab_files\u001b[0m\u001b[0;34m,\u001b[0m\u001b[0;34m\u001b[0m\u001b[0;34m\u001b[0m\u001b[0m\n\u001b[1;32m   1806\u001b[0m             \u001b[0mpretrained_model_name_or_path\u001b[0m\u001b[0;34m,\u001b[0m\u001b[0;34m\u001b[0m\u001b[0;34m\u001b[0m\u001b[0m\n",
            "\u001b[0;32m/usr/local/lib/python3.9/dist-packages/transformers/tokenization_utils_base.py\u001b[0m in \u001b[0;36m_from_pretrained\u001b[0;34m(cls, resolved_vocab_files, pretrained_model_name_or_path, init_configuration, use_auth_token, cache_dir, local_files_only, _commit_hash, *init_inputs, **kwargs)\u001b[0m\n\u001b[1;32m   1957\u001b[0m         \u001b[0;31m# Instantiate tokenizer.\u001b[0m\u001b[0;34m\u001b[0m\u001b[0;34m\u001b[0m\u001b[0m\n\u001b[1;32m   1958\u001b[0m         \u001b[0;32mtry\u001b[0m\u001b[0;34m:\u001b[0m\u001b[0;34m\u001b[0m\u001b[0;34m\u001b[0m\u001b[0m\n\u001b[0;32m-> 1959\u001b[0;31m             \u001b[0mtokenizer\u001b[0m \u001b[0;34m=\u001b[0m \u001b[0mcls\u001b[0m\u001b[0;34m(\u001b[0m\u001b[0;34m*\u001b[0m\u001b[0minit_inputs\u001b[0m\u001b[0;34m,\u001b[0m \u001b[0;34m**\u001b[0m\u001b[0minit_kwargs\u001b[0m\u001b[0;34m)\u001b[0m\u001b[0;34m\u001b[0m\u001b[0;34m\u001b[0m\u001b[0m\n\u001b[0m\u001b[1;32m   1960\u001b[0m         \u001b[0;32mexcept\u001b[0m \u001b[0mOSError\u001b[0m\u001b[0;34m:\u001b[0m\u001b[0;34m\u001b[0m\u001b[0;34m\u001b[0m\u001b[0m\n\u001b[1;32m   1961\u001b[0m             raise OSError(\n",
            "\u001b[0;32m/usr/local/lib/python3.9/dist-packages/transformers/models/pegasus/tokenization_pegasus_fast.py\u001b[0m in \u001b[0;36m__init__\u001b[0;34m(self, vocab_file, tokenizer_file, pad_token, eos_token, unk_token, mask_token, mask_token_sent, additional_special_tokens, offset, **kwargs)\u001b[0m\n\u001b[1;32m    140\u001b[0m             \u001b[0madditional_special_tokens\u001b[0m \u001b[0;34m+=\u001b[0m \u001b[0;34m[\u001b[0m\u001b[0;34mf\"<unk_{i}>\"\u001b[0m \u001b[0;32mfor\u001b[0m \u001b[0mi\u001b[0m \u001b[0;32min\u001b[0m \u001b[0mrange\u001b[0m\u001b[0;34m(\u001b[0m\u001b[0;36m2\u001b[0m\u001b[0;34m,\u001b[0m \u001b[0mself\u001b[0m\u001b[0;34m.\u001b[0m\u001b[0moffset\u001b[0m\u001b[0;34m)\u001b[0m\u001b[0;34m]\u001b[0m\u001b[0;34m\u001b[0m\u001b[0;34m\u001b[0m\u001b[0m\n\u001b[1;32m    141\u001b[0m \u001b[0;34m\u001b[0m\u001b[0m\n\u001b[0;32m--> 142\u001b[0;31m         super().__init__(\n\u001b[0m\u001b[1;32m    143\u001b[0m             \u001b[0mvocab_file\u001b[0m\u001b[0;34m,\u001b[0m\u001b[0;34m\u001b[0m\u001b[0;34m\u001b[0m\u001b[0m\n\u001b[1;32m    144\u001b[0m             \u001b[0mtokenizer_file\u001b[0m\u001b[0;34m=\u001b[0m\u001b[0mtokenizer_file\u001b[0m\u001b[0;34m,\u001b[0m\u001b[0;34m\u001b[0m\u001b[0;34m\u001b[0m\u001b[0m\n",
            "\u001b[0;32m/usr/local/lib/python3.9/dist-packages/transformers/tokenization_utils_fast.py\u001b[0m in \u001b[0;36m__init__\u001b[0;34m(self, *args, **kwargs)\u001b[0m\n\u001b[1;32m    118\u001b[0m             \u001b[0mfast_tokenizer\u001b[0m \u001b[0;34m=\u001b[0m \u001b[0mconvert_slow_tokenizer\u001b[0m\u001b[0;34m(\u001b[0m\u001b[0mslow_tokenizer\u001b[0m\u001b[0;34m)\u001b[0m\u001b[0;34m\u001b[0m\u001b[0;34m\u001b[0m\u001b[0m\n\u001b[1;32m    119\u001b[0m         \u001b[0;32melse\u001b[0m\u001b[0;34m:\u001b[0m\u001b[0;34m\u001b[0m\u001b[0;34m\u001b[0m\u001b[0m\n\u001b[0;32m--> 120\u001b[0;31m             raise ValueError(\n\u001b[0m\u001b[1;32m    121\u001b[0m                 \u001b[0;34m\"Couldn't instantiate the backend tokenizer from one of: \\n\"\u001b[0m\u001b[0;34m\u001b[0m\u001b[0;34m\u001b[0m\u001b[0m\n\u001b[1;32m    122\u001b[0m                 \u001b[0;34m\"(1) a `tokenizers` library serialization file, \\n\"\u001b[0m\u001b[0;34m\u001b[0m\u001b[0;34m\u001b[0m\u001b[0m\n",
            "\u001b[0;31mValueError\u001b[0m: Couldn't instantiate the backend tokenizer from one of: \n(1) a `tokenizers` library serialization file, \n(2) a slow tokenizer instance to convert or \n(3) an equivalent slow tokenizer class to instantiate and convert. \nYou need to have sentencepiece installed to convert a slow tokenizer to a fast one."
          ]
        }
      ]
    },
    {
      "cell_type": "code",
      "source": [
        "#Test article summarization for tesla Undercovering in china \n",
        "#Used from yFinance#\n",
        "#TODO-Fix the Issues on r responses and paragraph responses from yahoo finance texts\n",
        "#TODO --> Mass testing on various URLS\n",
        "'''\n",
        "\n",
        "url = \"https://www.investopedia.com/buffett-buys-occidental-7229701\"\n",
        "r = requests.get(url)\n",
        "soup = BeautifulSoup(r.text , 'html.parser')\n",
        "paragraphs = soup.find_all('p')\n",
        "text = [paragraph.text for paragraph in paragraphs]\n",
        "words  = ''.join(text).split(' ')[:400]\n",
        "ARTICLE = ' '.join(words)\n",
        "input_ids = tokenizer.encode(ARTICLE, return_tensors = 'pt')\n",
        "output = model.generate(input_ids,max_length = 55, num_beams = 5 , early_stopping = True)\n",
        "summary = tokenizer.decode(output[0], skip_special_tokens  = True)\n",
        "summary\n",
        "\n",
        "'''"
      ],
      "metadata": {
        "id": "t1HloI1fOUZZ",
        "colab": {
          "base_uri": "https://localhost:8080/",
          "height": 72
        },
        "outputId": "197f3017-4e5d-4935-98d7-8a33f5fff2a6"
      },
      "execution_count": 84,
      "outputs": [
        {
          "output_type": "execute_result",
          "data": {
            "text/plain": [
              "'\\n\\nurl = \"https://www.investopedia.com/buffett-buys-occidental-7229701\"\\nr = requests.get(url)\\nsoup = BeautifulSoup(r.text , \\'html.parser\\')\\nparagraphs = soup.find_all(\\'p\\')\\ntext = [paragraph.text for paragraph in paragraphs]\\nwords  = \\'\\'.join(text).split(\\' \\')[:400]\\nARTICLE = \\' \\'.join(words)\\ninput_ids = tokenizer.encode(ARTICLE, return_tensors = \\'pt\\')\\noutput = model.generate(input_ids,max_length = 55, num_beams = 5 , early_stopping = True)\\nsummary = tokenizer.decode(output[0], skip_special_tokens  = True)\\nsummary\\n\\n'"
            ],
            "application/vnd.google.colaboratory.intrinsic+json": {
              "type": "string"
            }
          },
          "metadata": {},
          "execution_count": 84
        }
      ]
    },
    {
      "cell_type": "markdown",
      "source": [
        "This Code slices focus on the Automation of more than one stock symbol"
      ],
      "metadata": {
        "id": "CVkISLxDpOd4"
      }
    },
    {
      "cell_type": "code",
      "source": [
        "#Building a News and Sentiment Pipleline\n",
        "#Test with company stock names --Edited to user preference\n",
        "monitored_tickers = ['GME' , 'TSLA', 'BTC'] # will be edited to allow user input\n",
        "\n",
        "#Search for stock news using Google and Yahoo Finance\n",
        "#TODO--> Figure out how to allow a universal Web scrapping instead of relying solely on Yahoo finance. ie investopedia, Bloomberg LP etc\n",
        "def search_for_stock_news_urls(ticker):\n",
        "    search_url = 'https://www.google.com/search?q=yahoo+finance+{}&biw'.format(ticker)\n",
        "    r = requests.get(search_url)\n",
        "    soup =  BeautifulSoup(r.text, 'html.parser')\n",
        "    atags = soup.find_all('a')\n",
        "    hrefs = [link['href'] for link in atags]\n",
        "    return hrefs\n",
        "\n",
        "raw_urls = {ticker:search_for_stock_news_urls(ticker) for ticker in monitored_tickers}\n",
        "raw_urls"
      ],
      "metadata": {
        "id": "PD9YBDbqPscL",
        "colab": {
          "base_uri": "https://localhost:8080/"
        },
        "outputId": "7e74d475-12a9-4818-dbc8-a4c3fe2fed81"
      },
      "execution_count": 88,
      "outputs": [
        {
          "output_type": "execute_result",
          "data": {
            "text/plain": [
              "{'GME': ['/?sa=X&ved=0ahUKEwiJ0P6h1ND9AhU6QTABHblNCZoQOwgC',\n",
              "  '/search?q=yahoo+finance+GME&ie=UTF-8&gbv=1&sei=78MKZMmcKLqCwbkPuZul0Ak',\n",
              "  '/search?q=yahoo+finance+GME&ie=UTF-8&source=lnms&tbm=nws&sa=X&ved=0ahUKEwiJ0P6h1ND9AhU6QTABHblNCZoQ_AUIBigB',\n",
              "  '/search?q=yahoo+finance+GME&ie=UTF-8&source=lnms&tbm=bks&sa=X&ved=0ahUKEwiJ0P6h1ND9AhU6QTABHblNCZoQ_AUIBygC',\n",
              "  '/search?q=yahoo+finance+GME&ie=UTF-8&source=lnms&tbm=vid&sa=X&ved=0ahUKEwiJ0P6h1ND9AhU6QTABHblNCZoQ_AUICCgD',\n",
              "  '/search?q=yahoo+finance+GME&ie=UTF-8&source=lnms&tbm=isch&sa=X&ved=0ahUKEwiJ0P6h1ND9AhU6QTABHblNCZoQ_AUICSgE',\n",
              "  'https://maps.google.com/maps?q=yahoo+finance+GME&um=1&ie=UTF-8&sa=X&ved=0ahUKEwiJ0P6h1ND9AhU6QTABHblNCZoQ_AUICigF',\n",
              "  '/search?q=yahoo+finance+GME&ie=UTF-8&source=lnms&tbm=shop&sa=X&ved=0ahUKEwiJ0P6h1ND9AhU6QTABHblNCZoQ_AUICygG',\n",
              "  '/advanced_search',\n",
              "  '/search?q=yahoo+finance+GME&ie=UTF-8&source=lnt&tbs=qdr:h&sa=X&ved=0ahUKEwiJ0P6h1ND9AhU6QTABHblNCZoQpwUIDQ',\n",
              "  '/search?q=yahoo+finance+GME&ie=UTF-8&source=lnt&tbs=qdr:d&sa=X&ved=0ahUKEwiJ0P6h1ND9AhU6QTABHblNCZoQpwUIDg',\n",
              "  '/search?q=yahoo+finance+GME&ie=UTF-8&source=lnt&tbs=qdr:w&sa=X&ved=0ahUKEwiJ0P6h1ND9AhU6QTABHblNCZoQpwUIDw',\n",
              "  '/search?q=yahoo+finance+GME&ie=UTF-8&source=lnt&tbs=qdr:m&sa=X&ved=0ahUKEwiJ0P6h1ND9AhU6QTABHblNCZoQpwUIEA',\n",
              "  '/search?q=yahoo+finance+GME&ie=UTF-8&source=lnt&tbs=qdr:y&sa=X&ved=0ahUKEwiJ0P6h1ND9AhU6QTABHblNCZoQpwUIEQ',\n",
              "  '/search?q=yahoo+finance+GME&ie=UTF-8&source=lnt&tbs=li:1&sa=X&ved=0ahUKEwiJ0P6h1ND9AhU6QTABHblNCZoQpwUIEw',\n",
              "  '/url?q=https://finance.yahoo.com/quote/GME/&sa=U&ved=2ahUKEwiJ0P6h1ND9AhU6QTABHblNCZoQFnoECAcQAg&usg=AOvVaw34czX9TpCFnarqkLfyh9Qq',\n",
              "  '/url?q=https://finance.yahoo.com/chart/GME/&sa=U&ved=2ahUKEwiJ0P6h1ND9AhU6QTABHblNCZoQ0gJ6BAgHEAU&usg=AOvVaw2TWGv7ptmBG7_jNfaVV94Y',\n",
              "  '/url?q=https://finance.yahoo.com/quote/GME/options/&sa=U&ved=2ahUKEwiJ0P6h1ND9AhU6QTABHblNCZoQ0gJ6BAgHEAY&usg=AOvVaw0QGwavfpivBJzhqjR_wCZN',\n",
              "  '/url?q=https://finance.yahoo.com/quote/GME/history/&sa=U&ved=2ahUKEwiJ0P6h1ND9AhU6QTABHblNCZoQ0gJ6BAgHEAc&usg=AOvVaw0L6-e3fDP6yOHl13KR00gp',\n",
              "  '/url?q=https://finance.yahoo.com/quote/GME/financials/&sa=U&ved=2ahUKEwiJ0P6h1ND9AhU6QTABHblNCZoQ0gJ6BAgHEAg&usg=AOvVaw0RbBNidG3phXjWAEtKHBPL',\n",
              "  '/url?q=https://finance.yahoo.com/chart/GME/&sa=U&ved=2ahUKEwiJ0P6h1ND9AhU6QTABHblNCZoQFnoECAkQAg&usg=AOvVaw159CmxWnyvTuQSB3I_kbQe',\n",
              "  '/url?q=https://ca.finance.yahoo.com/quote/GME/&sa=U&ved=2ahUKEwiJ0P6h1ND9AhU6QTABHblNCZoQFnoECAoQAg&usg=AOvVaw3Bn3EGOuTQJ85AuxyK0aLJ',\n",
              "  '/url?q=https://finance.yahoo.com/quote/GME/profile/&sa=U&ved=2ahUKEwiJ0P6h1ND9AhU6QTABHblNCZoQFnoECAIQAg&usg=AOvVaw2KgQEPj786KtlIENTuPSXg',\n",
              "  '/url?q=https://finance.yahoo.com/quote/GME/community%3Fp%3DGME&sa=U&ved=2ahUKEwiJ0P6h1ND9AhU6QTABHblNCZoQFnoECAMQAg&usg=AOvVaw3_kXGBkLZCDQ5JJFGoBAmI',\n",
              "  '/url?q=https://finance.yahoo.com/quote/GME/options%3Fp%3DGME&sa=U&ved=2ahUKEwiJ0P6h1ND9AhU6QTABHblNCZoQFnoECAUQAg&usg=AOvVaw36MA-fmny34UiVth1cHkU_',\n",
              "  '/url?q=https://finance.yahoo.com/quote/gme/news/&sa=U&ved=2ahUKEwiJ0P6h1ND9AhU6QTABHblNCZoQFnoECAYQAg&usg=AOvVaw0xzZBf71ZvJQTDfdO0mX3G',\n",
              "  '/url?q=https://ca.finance.yahoo.com/chart/GME/&sa=U&ved=2ahUKEwiJ0P6h1ND9AhU6QTABHblNCZoQFnoECAAQAg&usg=AOvVaw2DwRMYRSjGvHjGv43eOzJd',\n",
              "  '/url?q=https://finance.yahoo.com/quote/GME/sec-filing/&sa=U&ved=2ahUKEwiJ0P6h1ND9AhU6QTABHblNCZoQFnoECAEQAg&usg=AOvVaw2esbpca3g5R9DWad3FNeAy',\n",
              "  '/url?q=https://sg.finance.yahoo.com/quote/gme/&sa=U&ved=2ahUKEwiJ0P6h1ND9AhU6QTABHblNCZoQFnoECAQQAg&usg=AOvVaw1QA5B_b527MRrmYk1b721a',\n",
              "  '/search?ie=UTF-8&q=Yahoo+Finance+GME+chart&sa=X&ved=2ahUKEwiJ0P6h1ND9AhU6QTABHblNCZoQ1QJ6BAgIEAI',\n",
              "  '/search?ie=UTF-8&q=AMC+yahoo+Finance&sa=X&ved=2ahUKEwiJ0P6h1ND9AhU6QTABHblNCZoQ1QJ6BAgIEAQ',\n",
              "  '/search?ie=UTF-8&q=GME+stock&sa=X&ved=2ahUKEwiJ0P6h1ND9AhU6QTABHblNCZoQ1QJ6BAgIEAY',\n",
              "  '/search?ie=UTF-8&q=Yahoo+Finance+Bbby&sa=X&ved=2ahUKEwiJ0P6h1ND9AhU6QTABHblNCZoQ1QJ6BAgIEAg',\n",
              "  '/search?ie=UTF-8&q=GME+MarketWatch&sa=X&ved=2ahUKEwiJ0P6h1ND9AhU6QTABHblNCZoQ1QJ6BAgIEAo',\n",
              "  '/search?ie=UTF-8&q=GME+Reddit&sa=X&ved=2ahUKEwiJ0P6h1ND9AhU6QTABHblNCZoQ1QJ6BAgIEAw',\n",
              "  '/search?ie=UTF-8&q=Spy+yahoo+Finance&sa=X&ved=2ahUKEwiJ0P6h1ND9AhU6QTABHblNCZoQ1QJ6BAgIEA4',\n",
              "  '/search?ie=UTF-8&q=GME+stock+split&sa=X&ved=2ahUKEwiJ0P6h1ND9AhU6QTABHblNCZoQ1QJ6BAgIEBA',\n",
              "  '/search?q=yahoo+finance+GME&ie=UTF-8&ei=78MKZMmcKLqCwbkPuZul0Ak&start=10&sa=N',\n",
              "  '/url?q=https://support.google.com/websearch%3Fp%3Dws_settings_location%26hl%3Den&sa=U&ved=0ahUKEwiJ0P6h1ND9AhU6QTABHblNCZoQty4IVQ&usg=AOvVaw3-YyTqKSx_DBUER3_DLghd',\n",
              "  '/url?q=https://accounts.google.com/ServiceLogin%3Fcontinue%3Dhttps://www.google.com/search%253Fq%253Dyahoo%252Bfinance%252BGME%26hl%3Den&sa=U&ved=0ahUKEwiJ0P6h1ND9AhU6QTABHblNCZoQxs8CCFY&usg=AOvVaw2qXaVX48wFmCoG3n9MAakM',\n",
              "  'https://www.google.com/preferences?hl=en&fg=1&sa=X&ved=0ahUKEwiJ0P6h1ND9AhU6QTABHblNCZoQ5fUCCFc',\n",
              "  'https://policies.google.com/privacy?hl=en&fg=1',\n",
              "  'https://policies.google.com/terms?hl=en&fg=1',\n",
              "  '/setprefs?hl=en&prev=https://www.google.com/search?q%3Dyahoo%2Bfinance%2BGME%26pccc%3D1&sig=0_w_q76rb7f1VO-D12pPXcfi75GS0%3D&cs=2&sa=X&ved=0ahUKEwiJ0P6h1ND9AhU6QTABHblNCZoQjcAJCFg'],\n",
              " 'TSLA': ['/?sa=X&ved=0ahUKEwjwsJWi1ND9AhV4STABHahnDGMQOwgC',\n",
              "  '/search?q=yahoo+finance+TSLA&ie=UTF-8&gbv=1&sei=8MMKZPD4AfiSwbkPqM-xmAY',\n",
              "  '/search?q=yahoo+finance+TSLA&ie=UTF-8&source=lnms&tbm=nws&sa=X&ved=0ahUKEwjwsJWi1ND9AhV4STABHahnDGMQ_AUIBigB',\n",
              "  '/search?q=yahoo+finance+TSLA&ie=UTF-8&source=lnms&tbm=isch&sa=X&ved=0ahUKEwjwsJWi1ND9AhV4STABHahnDGMQ_AUIBygC',\n",
              "  '/search?q=yahoo+finance+TSLA&ie=UTF-8&source=lnms&tbm=vid&sa=X&ved=0ahUKEwjwsJWi1ND9AhV4STABHahnDGMQ_AUICCgD',\n",
              "  'https://maps.google.com/maps?q=yahoo+finance+TSLA&um=1&ie=UTF-8&sa=X&ved=0ahUKEwjwsJWi1ND9AhV4STABHahnDGMQ_AUICSgE',\n",
              "  '/search?q=yahoo+finance+TSLA&ie=UTF-8&source=lnms&tbm=shop&sa=X&ved=0ahUKEwjwsJWi1ND9AhV4STABHahnDGMQ_AUICigF',\n",
              "  '/search?q=yahoo+finance+TSLA&ie=UTF-8&source=lnms&tbm=bks&sa=X&ved=0ahUKEwjwsJWi1ND9AhV4STABHahnDGMQ_AUICygG',\n",
              "  '/advanced_search',\n",
              "  '/search?q=yahoo+finance+TSLA&ie=UTF-8&source=lnt&tbs=qdr:h&sa=X&ved=0ahUKEwjwsJWi1ND9AhV4STABHahnDGMQpwUIDQ',\n",
              "  '/search?q=yahoo+finance+TSLA&ie=UTF-8&source=lnt&tbs=qdr:d&sa=X&ved=0ahUKEwjwsJWi1ND9AhV4STABHahnDGMQpwUIDg',\n",
              "  '/search?q=yahoo+finance+TSLA&ie=UTF-8&source=lnt&tbs=qdr:w&sa=X&ved=0ahUKEwjwsJWi1ND9AhV4STABHahnDGMQpwUIDw',\n",
              "  '/search?q=yahoo+finance+TSLA&ie=UTF-8&source=lnt&tbs=qdr:m&sa=X&ved=0ahUKEwjwsJWi1ND9AhV4STABHahnDGMQpwUIEA',\n",
              "  '/search?q=yahoo+finance+TSLA&ie=UTF-8&source=lnt&tbs=qdr:y&sa=X&ved=0ahUKEwjwsJWi1ND9AhV4STABHahnDGMQpwUIEQ',\n",
              "  '/search?q=yahoo+finance+TSLA&ie=UTF-8&source=lnt&tbs=li:1&sa=X&ved=0ahUKEwjwsJWi1ND9AhV4STABHahnDGMQpwUIEw',\n",
              "  '/url?q=https://finance.yahoo.com/quote/TSLA/&sa=U&ved=2ahUKEwjwsJWi1ND9AhV4STABHahnDGMQFnoECAIQAg&usg=AOvVaw2DenHgVsE9miNLkMxL4vh3',\n",
              "  '/url?q=https://finance.yahoo.com/quote/TSLA/community/&sa=U&ved=2ahUKEwjwsJWi1ND9AhV4STABHahnDGMQ0gJ6BAgCEAU&usg=AOvVaw28lu_ryGcthiSxiPJf9mZU',\n",
              "  '/url?q=https://finance.yahoo.com/chart/TSLA/&sa=U&ved=2ahUKEwjwsJWi1ND9AhV4STABHahnDGMQ0gJ6BAgCEAY&usg=AOvVaw2KazCSGkxObkg48nTmM7te',\n",
              "  '/url?q=https://finance.yahoo.com/quote/TSLA/news/&sa=U&ved=2ahUKEwjwsJWi1ND9AhV4STABHahnDGMQ0gJ6BAgCEAc&usg=AOvVaw1jiamDavaewxIMGJ-Ug9tQ',\n",
              "  '/url?q=https://finance.yahoo.com/quote/TSLA/financials/&sa=U&ved=2ahUKEwjwsJWi1ND9AhV4STABHahnDGMQ0gJ6BAgCEAg&usg=AOvVaw1MOnCrIwOkK3CbHBndiuZg',\n",
              "  '/url?q=https://finance.yahoo.com/quote/TSLA%3Fp%3DTSLA&sa=U&ved=2ahUKEwjwsJWi1ND9AhV4STABHahnDGMQFnoECAYQAg&usg=AOvVaw0MXQu35nDEDQGVqJVKKWDZ',\n",
              "  '/url?q=https://finance.yahoo.com/quote/TSLA/chart%3Fp%3DTSLA&sa=U&ved=2ahUKEwjwsJWi1ND9AhV4STABHahnDGMQFnoECAkQAg&usg=AOvVaw3RBl9ZCZg7WrASP-hGjL6Y',\n",
              "  '/url?q=https://finance.yahoo.com/chart/TSLA/&sa=U&ved=2ahUKEwjwsJWi1ND9AhV4STABHahnDGMQFnoECAMQAg&usg=AOvVaw38you4ipBTf6GbXimlATLS',\n",
              "  '/url?q=https://finance.yahoo.com/quote/TSLA/key-statistics%3Fp%3DTSLA&sa=U&ved=2ahUKEwjwsJWi1ND9AhV4STABHahnDGMQFnoECAcQAg&usg=AOvVaw1yXCcuEI6kzsI9MEI3xghh',\n",
              "  '/url?q=https://finance.yahoo.com/quote/TSLA/community/&sa=U&ved=2ahUKEwjwsJWi1ND9AhV4STABHahnDGMQFnoECAAQAg&usg=AOvVaw2sX36lfjCnKBHm0PsLPRP6',\n",
              "  '/url?q=https://finance.yahoo.com/quote/TSLA.MI/&sa=U&ved=2ahUKEwjwsJWi1ND9AhV4STABHahnDGMQFnoECAUQAg&usg=AOvVaw1mOt5gIloIWu7wMXs1_OZp',\n",
              "  '/url?q=https://finance.yahoo.com/quote/TSLA/history%3Fp%3DTSLA&sa=U&ved=2ahUKEwjwsJWi1ND9AhV4STABHahnDGMQFnoECAEQAg&usg=AOvVaw0tsWwXnbqdc6NucQm8XMX7',\n",
              "  '/url?q=https://finance.yahoo.com/quote/TSLA/options/&sa=U&ved=2ahUKEwjwsJWi1ND9AhV4STABHahnDGMQFnoECAQQAg&usg=AOvVaw1mqYqH-LvePfWBZXdOmDxz',\n",
              "  '/url?q=https://finance.yahoo.com/video/tesla-stock-clear-winner-analyst-224152853.html&sa=U&ved=2ahUKEwjwsJWi1ND9AhV4STABHahnDGMQtwJ6BAgKEAE&usg=AOvVaw2fMNnX-bYGaMo5oTZbtaxZ',\n",
              "  '/url?q=https://finance.yahoo.com/video/tesla-stock-clear-winner-analyst-224152853.html&sa=U&ved=2ahUKEwjwsJWi1ND9AhV4STABHahnDGMQuAJ6BAgKEAI&usg=AOvVaw3zJo0YCB5y1MV1qbxBoLh7',\n",
              "  '/search?ie=UTF-8&q=Tesla+stock+news+today&sa=X&ved=2ahUKEwjwsJWi1ND9AhV4STABHahnDGMQ1QJ6BAgIEAI',\n",
              "  '/search?ie=UTF-8&q=TSLA+stock&sa=X&ved=2ahUKEwjwsJWi1ND9AhV4STABHahnDGMQ1QJ6BAgIEAQ',\n",
              "  '/search?ie=UTF-8&q=Tesla+phone+stock+name&sa=X&ved=2ahUKEwjwsJWi1ND9AhV4STABHahnDGMQ1QJ6BAgIEAY',\n",
              "  '/search?ie=UTF-8&q=Tesla+news+today+Live&sa=X&ved=2ahUKEwjwsJWi1ND9AhV4STABHahnDGMQ1QJ6BAgIEAg',\n",
              "  '/search?ie=UTF-8&q=Tesla+stock+prediction+2025&sa=X&ved=2ahUKEwjwsJWi1ND9AhV4STABHahnDGMQ1QJ6BAgIEAo',\n",
              "  '/search?ie=UTF-8&q=Tesla+news+today&sa=X&ved=2ahUKEwjwsJWi1ND9AhV4STABHahnDGMQ1QJ6BAgIEAw',\n",
              "  '/search?ie=UTF-8&q=Yahoo+Finance+news&sa=X&ved=2ahUKEwjwsJWi1ND9AhV4STABHahnDGMQ1QJ6BAgIEA4',\n",
              "  '/search?ie=UTF-8&q=Tesla+News&sa=X&ved=2ahUKEwjwsJWi1ND9AhV4STABHahnDGMQ1QJ6BAgIEBA',\n",
              "  '/search?q=yahoo+finance+TSLA&ie=UTF-8&ei=8MMKZPD4AfiSwbkPqM-xmAY&start=10&sa=N',\n",
              "  '/url?q=https://support.google.com/websearch%3Fp%3Dws_settings_location%26hl%3Den&sa=U&ved=0ahUKEwjwsJWi1ND9AhV4STABHahnDGMQty4IVg&usg=AOvVaw0-H2uUpSm9aCBt1RFGwTs6',\n",
              "  '/url?q=https://accounts.google.com/ServiceLogin%3Fcontinue%3Dhttps://www.google.com/search%253Fq%253Dyahoo%252Bfinance%252BTSLA%26hl%3Den&sa=U&ved=0ahUKEwjwsJWi1ND9AhV4STABHahnDGMQxs8CCFc&usg=AOvVaw1WI_Vde7WOT8DumBha_GbY',\n",
              "  'https://www.google.com/preferences?hl=en&fg=1&sa=X&ved=0ahUKEwjwsJWi1ND9AhV4STABHahnDGMQ5fUCCFg',\n",
              "  'https://policies.google.com/privacy?hl=en&fg=1',\n",
              "  'https://policies.google.com/terms?hl=en&fg=1',\n",
              "  '/setprefs?hl=en&prev=https://www.google.com/search?q%3Dyahoo%2Bfinance%2BTSLA%26pccc%3D1&sig=0_TGrM1jucmFJMpmAc0O09Z_KxkYM%3D&cs=2&sa=X&ved=0ahUKEwjwsJWi1ND9AhV4STABHahnDGMQjcAJCFk'],\n",
              " 'BTC': ['/?sa=X&ved=0ahUKEwiP46ui1ND9AhUAbzABHZSPAG4QOwgC',\n",
              "  '/search?q=yahoo+finance+BTC&ie=UTF-8&gbv=1&sei=8MMKZI-rGIDewbkPlJ-C8AY',\n",
              "  '/search?q=yahoo+finance+BTC&ie=UTF-8&source=lnms&tbm=nws&sa=X&ved=0ahUKEwiP46ui1ND9AhUAbzABHZSPAG4Q_AUIBigB',\n",
              "  '/search?q=yahoo+finance+BTC&ie=UTF-8&source=lnms&tbm=isch&sa=X&ved=0ahUKEwiP46ui1ND9AhUAbzABHZSPAG4Q_AUIBygC',\n",
              "  '/search?q=yahoo+finance+BTC&ie=UTF-8&source=lnms&tbm=vid&sa=X&ved=0ahUKEwiP46ui1ND9AhUAbzABHZSPAG4Q_AUICCgD',\n",
              "  'https://maps.google.com/maps?q=yahoo+finance+BTC&um=1&ie=UTF-8&sa=X&ved=0ahUKEwiP46ui1ND9AhUAbzABHZSPAG4Q_AUICSgE',\n",
              "  '/search?q=yahoo+finance+BTC&ie=UTF-8&source=lnms&tbm=shop&sa=X&ved=0ahUKEwiP46ui1ND9AhUAbzABHZSPAG4Q_AUICigF',\n",
              "  '/search?q=yahoo+finance+BTC&ie=UTF-8&source=lnms&tbm=bks&sa=X&ved=0ahUKEwiP46ui1ND9AhUAbzABHZSPAG4Q_AUICygG',\n",
              "  '/advanced_search',\n",
              "  '/search?q=yahoo+finance+BTC&ie=UTF-8&source=lnt&tbs=qdr:h&sa=X&ved=0ahUKEwiP46ui1ND9AhUAbzABHZSPAG4QpwUIDQ',\n",
              "  '/search?q=yahoo+finance+BTC&ie=UTF-8&source=lnt&tbs=qdr:d&sa=X&ved=0ahUKEwiP46ui1ND9AhUAbzABHZSPAG4QpwUIDg',\n",
              "  '/search?q=yahoo+finance+BTC&ie=UTF-8&source=lnt&tbs=qdr:w&sa=X&ved=0ahUKEwiP46ui1ND9AhUAbzABHZSPAG4QpwUIDw',\n",
              "  '/search?q=yahoo+finance+BTC&ie=UTF-8&source=lnt&tbs=qdr:m&sa=X&ved=0ahUKEwiP46ui1ND9AhUAbzABHZSPAG4QpwUIEA',\n",
              "  '/search?q=yahoo+finance+BTC&ie=UTF-8&source=lnt&tbs=qdr:y&sa=X&ved=0ahUKEwiP46ui1ND9AhUAbzABHZSPAG4QpwUIEQ',\n",
              "  '/search?q=yahoo+finance+BTC&ie=UTF-8&source=lnt&tbs=li:1&sa=X&ved=0ahUKEwiP46ui1ND9AhUAbzABHZSPAG4QpwUIEw',\n",
              "  '/url?q=https://finance.yahoo.com/quote/BTC-USD/&sa=U&ved=2ahUKEwiP46ui1ND9AhUAbzABHZSPAG4QFnoECAYQAg&usg=AOvVaw2kQjOxxg22sh4XtLPA5dTm',\n",
              "  '/url?q=https://finance.yahoo.com/quote/BTC-USD%3Fp%3DBTC-USD&sa=U&ved=2ahUKEwiP46ui1ND9AhUAbzABHZSPAG4QjBB6BAgGEAU&usg=AOvVaw2SY7gSprI_bnNU6-UQrcGQ',\n",
              "  '/url?q=https://finance.yahoo.com/chart/BTC-USD/&sa=U&ved=2ahUKEwiP46ui1ND9AhUAbzABHZSPAG4QjBB6BAgGEAc&usg=AOvVaw1ywVEwGrRzShkOdSnaSuxn',\n",
              "  '/url?q=https://finance.yahoo.com/quote/BTC-USD/community/&sa=U&ved=2ahUKEwiP46ui1ND9AhUAbzABHZSPAG4QjBB6BAgGEAk&usg=AOvVaw07tdrWx_k6LZZB7m2xbkRA',\n",
              "  '/url?q=https://sg.finance.yahoo.com/quote/BTC-USD/&sa=U&ved=2ahUKEwiP46ui1ND9AhUAbzABHZSPAG4QjBB6BAgGEAs&usg=AOvVaw3kSbUVEyUuBStj4s_0tm3H',\n",
              "  '/url?q=https://finance.yahoo.com/news/bitcoin-tumbles-to-7-week-low-as-bank-liquidation-regulatory-pressures-weigh-on-crypto-230323372.html&sa=U&ved=2ahUKEwiP46ui1ND9AhUAbzABHZSPAG4Q0PADegQIBxAD&usg=AOvVaw2kqP0os_b2Cr3dw1XZWl-o',\n",
              "  '/url?q=https://finance.yahoo.com/news/bitcoin-miner-hut-8-talks-180951724.html&sa=U&ved=2ahUKEwiP46ui1ND9AhUAbzABHZSPAG4Q0PADegQIBxAH&usg=AOvVaw3JL6lKFMiR15tUaCCh8KBW',\n",
              "  '/url?q=https://finance.yahoo.com/news/u-governments-1b-bitcoin-transfer-012739145.html&sa=U&ved=2ahUKEwiP46ui1ND9AhUAbzABHZSPAG4Q0PADegQIBxAL&usg=AOvVaw2Yd-XAbfPRyXzABpqb7A6P',\n",
              "  '/url?q=https://finance.yahoo.com/news/gbtc-discount-narrows-following-arguments-in-grayscale-sec-lawsuit-190422883.html&sa=U&ved=2ahUKEwiP46ui1ND9AhUAbzABHZSPAG4Q0PADegQIBxAP&usg=AOvVaw1vNito1mICefVxSu1jSzy9',\n",
              "  '/url?q=https://finance.yahoo.com/news/bitcoin-crashes-us-22-000-030719654.html&sa=U&ved=2ahUKEwiP46ui1ND9AhUAbzABHZSPAG4Q0PADegQIBxAT&usg=AOvVaw3gWaZW7yMgOZTLdxAFXrSf',\n",
              "  '/url?q=https://finance.yahoo.com/news/silvergate-collapse-dragging-down-bitcoin-072002242.html&sa=U&ved=2ahUKEwiP46ui1ND9AhUAbzABHZSPAG4Q0PADegQIBxAX&usg=AOvVaw2Eqk468YiSChw_k95vezhT',\n",
              "  '/url?q=https://finance.yahoo.com/news/shares-grayscale-bitcoin-trust-form-123654232.html&sa=U&ved=2ahUKEwiP46ui1ND9AhUAbzABHZSPAG4Q0PADegQIBxAb&usg=AOvVaw3j_nMjzXH8qkAwg0eAeZn4',\n",
              "  '/url?q=https://finance.yahoo.com/news/bitcoin-falls-below-20k-2023-010748040.html&sa=U&ved=2ahUKEwiP46ui1ND9AhUAbzABHZSPAG4Q0PADegQIBxAf&usg=AOvVaw312m4BZ_rTw6l__I0blOAb',\n",
              "  '/url?q=https://finance.yahoo.com/news/economic-landings-economic-signals-bitcoin-25000-3-top-stories-from-this-week-120058611.html&sa=U&ved=2ahUKEwiP46ui1ND9AhUAbzABHZSPAG4Q0PADegQIBxAj&usg=AOvVaw3WnygISTPZS6PjDyHrwYH3',\n",
              "  '/url?q=https://finance.yahoo.com/news/crypto-has-a-target-on-its-back-with-the-irs-bitcoin-exec-on-yahoo-finance-live-180346509.html&sa=U&ved=2ahUKEwiP46ui1ND9AhUAbzABHZSPAG4Q0PADegQIBxAn&usg=AOvVaw3Y3rFuSPsa1AW4ddminQEO',\n",
              "  '/url?q=https://finance.yahoo.com/chart/BTC-CAD/&sa=U&ved=2ahUKEwiP46ui1ND9AhUAbzABHZSPAG4QFnoECAAQAg&usg=AOvVaw2Rb-UYufDwxeIvHCLqIKyt',\n",
              "  '/url?q=https://finance.yahoo.com/topic/crypto/&sa=U&ved=2ahUKEwiP46ui1ND9AhUAbzABHZSPAG4QFnoECAUQAg&usg=AOvVaw28-OWSKfdKxW-TqLVnrWot',\n",
              "  '/url?q=https://finance.yahoo.com/quote/BTCUSD%3DX/&sa=U&ved=2ahUKEwiP46ui1ND9AhUAbzABHZSPAG4QFnoECAMQAg&usg=AOvVaw1CLC2T1B8YzmdcGJ3EUC-x',\n",
              "  '/url?q=https://uk.finance.yahoo.com/chart/BTC-USD/&sa=U&ved=2ahUKEwiP46ui1ND9AhUAbzABHZSPAG4QFnoECAQQAg&usg=AOvVaw3OhSfS67rhNZfn7BkE9jmp',\n",
              "  '/url?q=https://finance.yahoo.com/quote/BTC%3DF/&sa=U&ved=2ahUKEwiP46ui1ND9AhUAbzABHZSPAG4QFnoECAIQAg&usg=AOvVaw1sffHGwHEEffOXX30FlGSr',\n",
              "  '/url?q=https://ca.finance.yahoo.com/quote/BTC-CAD%3Fp%3DBTC-CAD&sa=U&ved=2ahUKEwiP46ui1ND9AhUAbzABHZSPAG4QFnoECAEQAg&usg=AOvVaw0YaBiWpmMcCg-DQPU7ZlWE',\n",
              "  '/search?ie=UTF-8&q=BTC/USD&sa=X&ved=2ahUKEwiP46ui1ND9AhUAbzABHZSPAG4Q1QJ6BAgIEAI',\n",
              "  '/search?ie=UTF-8&q=Bitcoin+news&sa=X&ved=2ahUKEwiP46ui1ND9AhUAbzABHZSPAG4Q1QJ6BAgIEAQ',\n",
              "  '/search?ie=UTF-8&q=BTC+price&sa=X&ved=2ahUKEwiP46ui1ND9AhUAbzABHZSPAG4Q1QJ6BAgIEAY',\n",
              "  '/search?ie=UTF-8&q=Bitcoin+price+live&sa=X&ved=2ahUKEwiP46ui1ND9AhUAbzABHZSPAG4Q1QJ6BAgIEAg',\n",
              "  '/search?ie=UTF-8&q=Bitcoin+stock+price+chart&sa=X&ved=2ahUKEwiP46ui1ND9AhUAbzABHZSPAG4Q1QJ6BAgIEAo',\n",
              "  '/search?ie=UTF-8&q=Bitcoin&sa=X&ved=2ahUKEwiP46ui1ND9AhUAbzABHZSPAG4Q1QJ6BAgIEAw',\n",
              "  '/search?ie=UTF-8&q=Bitcoin+price+history&sa=X&ved=2ahUKEwiP46ui1ND9AhUAbzABHZSPAG4Q1QJ6BAgIEA4',\n",
              "  '/search?ie=UTF-8&q=Ethereum+price+USD&sa=X&ved=2ahUKEwiP46ui1ND9AhUAbzABHZSPAG4Q1QJ6BAgIEBA',\n",
              "  '/search?q=yahoo+finance+BTC&ie=UTF-8&ei=8MMKZI-rGIDewbkPlJ-C8AY&start=10&sa=N',\n",
              "  '/url?q=https://support.google.com/websearch%3Fp%3Dws_settings_location%26hl%3Den&sa=U&ved=0ahUKEwiP46ui1ND9AhUAbzABHZSPAG4Qty4Idg&usg=AOvVaw3PscW2zqjEdVp_ZbHL9NvB',\n",
              "  '/url?q=https://accounts.google.com/ServiceLogin%3Fcontinue%3Dhttps://www.google.com/search%253Fq%253Dyahoo%252Bfinance%252BBTC%26hl%3Den&sa=U&ved=0ahUKEwiP46ui1ND9AhUAbzABHZSPAG4Qxs8CCHc&usg=AOvVaw1GXethvoea-phXFvsVJtWD',\n",
              "  'https://www.google.com/preferences?hl=en&fg=1&sa=X&ved=0ahUKEwiP46ui1ND9AhUAbzABHZSPAG4Q5fUCCHg',\n",
              "  'https://policies.google.com/privacy?hl=en&fg=1',\n",
              "  'https://policies.google.com/terms?hl=en&fg=1',\n",
              "  '/setprefs?hl=en&prev=https://www.google.com/search?q%3Dyahoo%2Bfinance%2BBTC%26pccc%3D1&sig=0_5dpO_URCvUF87dW5YKK8XUrj9ig%3D&cs=2&sa=X&ved=0ahUKEwiP46ui1ND9AhUAbzABHZSPAG4QjcAJCHk']}"
            ]
          },
          "metadata": {},
          "execution_count": 88
        }
      ]
    },
    {
      "cell_type": "code",
      "source": [
        "#Strip out the unwanted URLs--> policies,accounts, preferences etc\n",
        "excluded_list = ['maps', 'policies', 'preferences', 'support', 'accounts']\n",
        "def strip_unwanted_urls(urls, excluded_list):\n",
        "    final_val = []\n",
        "    for url in urls:\n",
        "        if 'https://' in url and not any(excluded_word in url for excluded_word in excluded_list):\n",
        "            res = re.findall(r'(https?://\\S+)', url)[0].split('&')[0]\n",
        "            final_val.append(res)\n",
        "    return list(set(final_val))\n",
        "\n",
        "cleaned_urls = {ticker:strip_unwanted_urls(raw_urls[ticker], excluded_list) for ticker in monitored_tickers}\n",
        "cleaned_urls\n"
      ],
      "metadata": {
        "colab": {
          "base_uri": "https://localhost:8080/"
        },
        "id": "WMtE00W8CT1n",
        "outputId": "d674666a-6ba3-44a7-a02e-2af006504424"
      },
      "execution_count": 89,
      "outputs": [
        {
          "output_type": "execute_result",
          "data": {
            "text/plain": [
              "{'GME': ['https://finance.yahoo.com/quote/GME/profile/',\n",
              "  'https://finance.yahoo.com/quote/gme/news/',\n",
              "  'https://ca.finance.yahoo.com/chart/GME/',\n",
              "  'https://finance.yahoo.com/quote/GME/history/',\n",
              "  'https://finance.yahoo.com/quote/GME/financials/',\n",
              "  'https://finance.yahoo.com/chart/GME/',\n",
              "  'https://ca.finance.yahoo.com/quote/GME/',\n",
              "  'https://finance.yahoo.com/quote/GME/sec-filing/',\n",
              "  'https://www.google.com/search?q%3Dyahoo%2Bfinance%2BGME%26pccc%3D1',\n",
              "  'https://finance.yahoo.com/quote/GME/options/',\n",
              "  'https://sg.finance.yahoo.com/quote/gme/',\n",
              "  'https://finance.yahoo.com/quote/GME/community%3Fp%3DGME',\n",
              "  'https://finance.yahoo.com/quote/GME/',\n",
              "  'https://finance.yahoo.com/quote/GME/options%3Fp%3DGME'],\n",
              " 'TSLA': ['https://www.google.com/search?q%3Dyahoo%2Bfinance%2BTSLA%26pccc%3D1',\n",
              "  'https://finance.yahoo.com/quote/TSLA/',\n",
              "  'https://finance.yahoo.com/quote/TSLA%3Fp%3DTSLA',\n",
              "  'https://finance.yahoo.com/quote/TSLA/financials/',\n",
              "  'https://finance.yahoo.com/quote/TSLA/history%3Fp%3DTSLA',\n",
              "  'https://finance.yahoo.com/quote/TSLA/community/',\n",
              "  'https://finance.yahoo.com/quote/TSLA/options/',\n",
              "  'https://finance.yahoo.com/video/tesla-stock-clear-winner-analyst-224152853.html',\n",
              "  'https://finance.yahoo.com/quote/TSLA/chart%3Fp%3DTSLA',\n",
              "  'https://finance.yahoo.com/chart/TSLA/',\n",
              "  'https://finance.yahoo.com/quote/TSLA/key-statistics%3Fp%3DTSLA',\n",
              "  'https://finance.yahoo.com/quote/TSLA/news/',\n",
              "  'https://finance.yahoo.com/quote/TSLA.MI/'],\n",
              " 'BTC': ['https://finance.yahoo.com/chart/BTC-CAD/',\n",
              "  'https://finance.yahoo.com/quote/BTCUSD%3DX/',\n",
              "  'https://finance.yahoo.com/quote/BTC-USD%3Fp%3DBTC-USD',\n",
              "  'https://finance.yahoo.com/news/bitcoin-miner-hut-8-talks-180951724.html',\n",
              "  'https://www.google.com/search?q%3Dyahoo%2Bfinance%2BBTC%26pccc%3D1',\n",
              "  'https://finance.yahoo.com/quote/BTC%3DF/',\n",
              "  'https://finance.yahoo.com/news/economic-landings-economic-signals-bitcoin-25000-3-top-stories-from-this-week-120058611.html',\n",
              "  'https://finance.yahoo.com/quote/BTC-USD/',\n",
              "  'https://ca.finance.yahoo.com/quote/BTC-CAD%3Fp%3DBTC-CAD',\n",
              "  'https://finance.yahoo.com/news/silvergate-collapse-dragging-down-bitcoin-072002242.html',\n",
              "  'https://finance.yahoo.com/chart/BTC-USD/',\n",
              "  'https://uk.finance.yahoo.com/chart/BTC-USD/',\n",
              "  'https://finance.yahoo.com/news/bitcoin-crashes-us-22-000-030719654.html',\n",
              "  'https://finance.yahoo.com/news/gbtc-discount-narrows-following-arguments-in-grayscale-sec-lawsuit-190422883.html',\n",
              "  'https://finance.yahoo.com/news/bitcoin-tumbles-to-7-week-low-as-bank-liquidation-regulatory-pressures-weigh-on-crypto-230323372.html',\n",
              "  'https://finance.yahoo.com/news/bitcoin-falls-below-20k-2023-010748040.html',\n",
              "  'https://finance.yahoo.com/quote/BTC-USD/community/',\n",
              "  'https://finance.yahoo.com/topic/crypto/',\n",
              "  'https://finance.yahoo.com/news/u-governments-1b-bitcoin-transfer-012739145.html',\n",
              "  'https://finance.yahoo.com/news/crypto-has-a-target-on-its-back-with-the-irs-bitcoin-exec-on-yahoo-finance-live-180346509.html',\n",
              "  'https://finance.yahoo.com/news/shares-grayscale-bitcoin-trust-form-123654232.html',\n",
              "  'https://sg.finance.yahoo.com/quote/BTC-USD/']}"
            ]
          },
          "metadata": {},
          "execution_count": 89
        }
      ]
    },
    {
      "cell_type": "code",
      "source": [
        "#Seach and scrape cleaned URLs\n",
        "def scrape_and_process(urls):\n",
        "    ARTICLES = []\n",
        "    for url in urls:\n",
        "        r = requests.get(url)\n",
        "        soup = BeautifulSoup(r.text, 'html.parser')\n",
        "        paragraphs = soup.find_all('p')\n",
        "        text = [paragraph.text for paragraph in paragraphs]\n",
        "        words = ''.join(text).split(' ')[:400]\n",
        "        ARTICLE = ''.join(words)\n",
        "        ARTICLES.append(ARTICLE)\n",
        "    return ARTICLES\n",
        "\n",
        "articles = {ticker:scrape_and_process(cleaned_urls[ticker]) for ticker in monitored_tickers}\n",
        "articles"
      ],
      "metadata": {
        "colab": {
          "base_uri": "https://localhost:8080/"
        },
        "id": "yqWhNl48CUvs",
        "outputId": "4bef963a-d142-4f87-ed70-ff60a0189df7"
      },
      "execution_count": 90,
      "outputs": [
        {
          "output_type": "execute_result",
          "data": {
            "text/plain": [
              "{'GME': ['Thankyouforyourpatience.Ourengineersareworkingquicklytoresolvetheissue.',\n",
              "  'Thankyouforyourpatience.Ourengineersareworkingquicklytoresolvetheissue.',\n",
              "  'Thankyouforyourpatience.Ourengineersareworkingquicklytoresolvetheissue.',\n",
              "  'Thankyouforyourpatience.Ourengineersareworkingquicklytoresolvetheissue.',\n",
              "  'Thankyouforyourpatience.Ourengineersareworkingquicklytoresolvetheissue.',\n",
              "  'Weareexperiencingsometemporaryissues.Themarketdataonthispageiscurrentlydelayed.Pleasebearwithusasweaddressthisandrestoreyourpersonalizedlists.',\n",
              "  'Thankyouforyourpatience.Ourengineersareworkingquicklytoresolvetheissue.',\n",
              "  'Thankyouforyourpatience.Ourengineersareworkingquicklytoresolvetheissue.',\n",
              "  '©2023-Privacy-Terms',\n",
              "  'Thankyouforyourpatience.Ourengineersareworkingquicklytoresolvetheissue.',\n",
              "  'Thankyouforyourpatience.Ourengineersareworkingquicklytoresolvetheissue.',\n",
              "  'Thankyouforyourpatience.Ourengineersareworkingquicklytoresolvetheissue.',\n",
              "  'Weareexperiencingsometemporaryissues.Themarketdataonthispageiscurrentlydelayed.Pleasebearwithusasweaddressthisandrestoreyourpersonalizedlists.CommodityChannelIndexSubscribetoYahooFinancePlustoviewFairValueforGMEGRAPEVINE,Texas,March08,2023--GameStopCorp.(NYSE:GME)(\"GameStop\"orthe\"Company\")todayannouncedthatitwillreportfourthquarterandfullyearfiscal2022resultsafterthemarketclosesonTuesday,March21,2023.TheCompanywillhostaninvestorconferencecallat5:00pmETonthesamedaytoreviewitsresults.ThiscallandallsupplementalinformationcanbeaccessedonGameStop’sinvestorrelationswebsite:https://investor.gamestop.com/.ThephonenumberfortheinvestorcoMemestocks,alsoknownasRedditstocksorsocialmediastocks,havecapturedtheattentionofmanyinvestorsoverthepastyearduetotheirvolatilepricemovementsandpopularityononlineforums.Whilesomeinvestorshaveprofitedsignificantlyfromthesestocks,othershavesufferedlargelosses.Asweheadintotheendofthefirstquarterof2023,itisanexcellenttimetoreassessyourportfolioandconsidermemestockstosellthatmaynolongerbeawiseinvestmentchoice.InparticuInthelatesttradingsession,GameStop(GME)closedat$18.65,markinga-0.27%movefromthepreviousday.GameStop,AppleandBankofAmericahavebeenhighlightedinthisInvestmentIdeasarticle.Needalittlebrightnessinyourday?Whetherwe\\'retalkingaboutthousand-dollardonationstofoodbanks,tables-fullofvideogameconsolesforachildren\\'shospital,orthelargestquantityofindividualdonatestotheDianFosseyGorillaFundinhistory,these8instancesofretailtradersdoingsomethingpositivewiththeirstockmarketgainsshouldputasmileonyourface.GameStop(GME)closedthemostrecenttradingdayat$19.23,moving+0.68%fromtheprevioustradingsession.KeyInsightsTheconsiderableownershipbyindividualinvestorsinGameStopindicatesthattheycollectivelyhavea...HestiaCapitalManagingMemberandChiefInvestmentOfficerKurtWolfjoinsYahooFinanceLivetodiscusscallingforleadershipchangesatPitneyBowes,investmentopportunities,andhowthecompanycomparestoGameStop.GameStop,Tesla,Hershey,YumChinaandBoxarepartoftheZacksInvestmentIdeasarticle.GameStop(GME)closedat$20.52inthelatesttradingsession,markinga-0.68%movefromthepriorday.AMCEntertainmentHoldings,Inc.BlackBerryLimitedPalantirTechnologiesInc.NIOInc.BedBath&BeyondInc.BedBath&BeyondInc.ChargePointHoldings,Inc.DICK\\'S',\n",
              "  'Thankyouforyourpatience.Ourengineersareworkingquicklytoresolvetheissue.'],\n",
              " 'TSLA': ['©2023-Privacy-Terms',\n",
              "  \"Weareexperiencingsometemporaryissues.Themarketdataonthispageiscurrentlydelayed.Pleasebearwithusasweaddressthisandrestoreyourpersonalizedlists.CommodityChannelIndexSubscribetoYahooFinancePlustoviewFairValueforTSLATomNarayan,RBCCapitalMarketsLeadEquityAnalystonGlobalAutos,joinsYahooFinanceLivetodiscussTesla,GeneralMotors,andthestateoftheEVmarket.YahooFinanceLive’sInesFerrebreaksdownhowstocksaretradingfollowingtheopeningbellonThursday.(Bloomberg)--China’sContemporaryAmperexTechnologyCo.Ltd.reportedannualearningsthatbeatestimatesonstrongerdemandforcleanercars,underscoringitsdominanceastheworld’sbiggestmakerofbatteriesforelectricvehicles.MostReadfromBloombergCompaniesAreTellingUstheRealReasonThey'reStillRaisingPricesPeterThiel’sFoundersFundAdvisesCompaniestoWithdrawMoneyFromSVBInBiden’sTax-the-RichBudget,Capital-GainsRatesNear45%WarnerBros.Delays‘SuicideSquad’GaElonMuskremarkedthat“weweren’tsureaboutwhatthepriceelasticityofdemandwasforTesla”(“Teslasetsouttowidenitsreachwithcheapercar”,Report,March3).WhenTeslacutprices,ittriggeredconsumerstoacceleratetheirreplacementcycles,hencethe“bigimpactondemand”.Inthelongerterm,Muskwouldfindthatconsumerreplacementcycleswouldreverttoanewequilibrium,withthedemandbelowtheshortrunlevel.Tesla'splanstostopusingrareearthsinitsnext-generationEVshascausedsharesofrareearthminerstoplummetTheTwitterCEOreportedlyhasplanstobuildthetownabout35milesoutsideAustin.CathieWoodandherARKInvestfirmarebuyingthediponTeslastockasElonMusk'sEVgiantstallsonitsmassiverallytostarttheyear.TeslapricecutshaveignitedaChinaEVpricewar,asmarketleaders,startupsandforeignautomakersfightforsales.Here'swhat'sahead.MizuhoanalystVijayRakeshmaintainsRivianAutomotiveInc(NASDAQ:RIVN)withaBuyandlowersthepricetargetfrom$37to$35.RIVNannounceda$1.3billiongreenconvertibleseniornoteoffering.RakeshbelievestheofferingproceedswilllikelyfuelcapexinvestmentsatNormalandpotentiallyGeorgiawhileadding~$60million-$69millionannualinterestexpenseleadingtoanestimated~$0.07annualnegativeEPSimpact.RiviannotedF24Ecashburntoimproveby~40%versusF23E,withaneStarautomotiveanalystAdamJonasbelievesthatthefuturisticpickuptruckisa'cultcar'butTeslahas\",\n",
              "  'Thankyouforyourpatience.Ourengineersareworkingquicklytoresolvetheissue.',\n",
              "  'Thankyouforyourpatience.Ourengineersareworkingquicklytoresolvetheissue.',\n",
              "  'Thankyouforyourpatience.Ourengineersareworkingquicklytoresolvetheissue.',\n",
              "  'Thankyouforyourpatience.Ourengineersareworkingquicklytoresolvetheissue.',\n",
              "  'Thankyouforyourpatience.Ourengineersareworkingquicklytoresolvetheissue.',\n",
              "  'Thankyouforyourpatience.Ourengineersareworkingquicklytoresolvetheissue.',\n",
              "  'Thankyouforyourpatience.Ourengineersareworkingquicklytoresolvetheissue.',\n",
              "  'Weareexperiencingsometemporaryissues.Themarketdataonthispageiscurrentlydelayed.Pleasebearwithusasweaddressthisandrestoreyourpersonalizedlists.',\n",
              "  'Thankyouforyourpatience.Ourengineersareworkingquicklytoresolvetheissue.',\n",
              "  'Thankyouforyourpatience.Ourengineersareworkingquicklytoresolvetheissue.',\n",
              "  'Thankyouforyourpatience.Ourengineersareworkingquicklytoresolvetheissue.'],\n",
              " 'BTC': ['Weareexperiencingsometemporaryissues.Themarketdataonthispageiscurrentlydelayed.Pleasebearwithusasweaddressthisandrestoreyourpersonalizedlists.',\n",
              "  'Thankyouforyourpatience.Ourengineersareworkingquicklytoresolvetheissue.',\n",
              "  'Thankyouforyourpatience.Ourengineersareworkingquicklytoresolvetheissue.',\n",
              "  'Jointhemostimportantconversationincryptoandweb3!SecureyourseattodayOperationalissuesacrossitsbitcoinminingsitesareweighingonHut8Mining(HUT)asittriestocompletewhatwouldbeoneofthelargestdealsinthesector–thecompany\\'smergerwithU.S.BitcoinCorp.Inmid-November2022,Hut8stoppedminingwith7,000rigsatasiteinNorthBay,Ontario,duetoanongoingdisputewithitsenergyprovider,ValidusPower.Hut8hasnowremovedallmachinesfromthefacilitytoasiteinMedicineHat,Alberta.Pressedaboutprogressbyanalystsonthecompany\\'searningscallThursdaymorning,Hut8CEOJaimeLevertonsaidthefirmisassessingopportunitiestoenergizetheminers,butdidn\\'tgiveanyconcretealternatives.AtitsDrumhellersiteinAlberta,Hut8hasbeenfacing\"electricalissues\"thathavehitoperations.\"Weareintheearlystagesexploringsupplementaryoptionstomitigatethechallengesandhopewehavemoredefinitiveplan,\"saidthefirm\\'snewlyappointedchieffinancialofficer,ShenifVisram,duringtheconferencecall.Hut8sharesaredown8%onThursday,asarethoseofitsminingpeers,asbitcoinslidestoitslowestlevelinamonthat$21,450.Hut8didreceivealetterofnoactionfromtheCanadiancompetitionauthorityforitsproposedmergerwithU.S.BitcoinCorp.,meaningtheauthoritydoesn\\'tplantochallengethemove,Levertonsaidonthecall.Thecompany\\'smainfocusisoncompletingthemerger,shesaid,whichwillgiveitaccesstoadditionalpowerforminingrigs.LookingatQ4results,miningprofitplungedtoCAD$3.33million(US$2.4million)from$39.2million(US$28.4million)duringthesameperiodayearearlier.Forallof2022,thecompanymined3,568bitcoin,up28.1%from2021.Hut8reportedanetlossofCAD$242.8millionfor2022comparedtoalossofCAD$72.7millionfor2021.Thecompanyearlierthisweekdisclosedsalesofbitcoinforthefirsttimein2021asitlookedtohelpfundbothoperatingcostsanditsmergerwithU.S.BitcoinCorp.Readmore:SharesofBitcoinMinerHut8SlumponMergerWithUSBitcoinCorp.CORRECTION(March9,18:40UTC):ClarifiesthatHut8andValiduswereinadispute,notlitigation,inNovember.RelatedQuotes',\n",
              "  '©2023-Privacy-Terms',\n",
              "  \"Weareexperiencingsometemporaryissues.Themarketdataonthispageiscurrentlydelayed.Pleasebearwithusasweaddressthisandrestoreyourpersonalizedlists.ProSharesGlobalInvestmentStrategistSimeonHymanjoinsYahooFinanceLivetodiscussthecompany'sfirstshortbitcoinETFintheU.S.VettaFiVice-ChairTomLydonjoinsYahooFinanceLivetodiscusscryptoETFtrendsamidtheslideincryptocurrencies.\\xa0\\xa0\",\n",
              "  'Thestockmarket\\'searly-yearrallycontinuedtostallthisweek,withtheDowloggingitsthird-straightlosingweekwhiletheS&P500cappedofftwo-straightlosingweeksforthefirsttimethisyear.Underneaththesurface,retailinvestorscontinuetobuywithenthusiasm,asdatafromVandaTrackpublishedThursdayshowedsome$1.5billionperdayiscomingintothemarketfromthisgroup.Andwhilesingle-stockactionremainsvolatilewithearningsseasoncontinuingtoofferfireworks—seeDraftKings(DKNG)andShopify(SHOP),whichrose13%andfell15%,respectively,afterquarterlyresultsthisweek—thebigmarketstorylinescontinuedtobedominatedbyonetopic:theU.S.economy.TheU.S.economyremainsmoreresilientthanmostexpertsexpectedasacumulative4.5%increaseintheFederalReserve\\'sbenchmarkinterestratesinceMarch2022hasn\\'tyetchokedoffthelabormarket,consumerspending,oroverallgrowth.Thisweek,dataonretailsalesshowedconsumersdidlittleholdingbacktostarttheyear,withsalesrising3%inJanuary,thebiggestmonthlyincreasesinceMarch2021.Wednesday\\'sdatacamejustadayafterJanuaryinflationdatashowedpriceincreaseswerefirmerthanexpectedtostarttheyear,withtheheadlineConsumerPriceIndex(CPI)rising0.5%overlastmonthand6.4%overlastyear.\"Core\"CPI,whichstripsoutthemorevolatilecostsoffoodandgas,rose0.4%overlastmonthand5.6%overlastyear.Takentogether,thesereportsshowbothinflationpressuresfadinglessquicklythanexpectedandconsumersappearinglesssensitivetothesepressures.In2022,theconversationabouttheU.S.economybrokeintotwobasiccamps—hardlandingandsoftlanding.AhardlandingwouldseetheFed\\'sratehikessendtheeconomyintorecessionwiththelabormarketweakeningconsiderably.Asoftlandingwouldseeratehikesslowinflationwithoutcrashingtheeconomyintoadownturn.Butnow,athirdwayhasemergedamongtheeconomiccommentariat:a\"nolanding.\"AsYahooFinance\\'sAlexandraSemenovadetailedonFriday,a\"nolanding\"meansinflationremainselevatedbuttheeconomykeepsgrowing.Someeconomists,asAlexandranoted,thinkthisscenariomakesnosense.Inthisview,theeconomyiscyclicalandovertimegrowthwillriseandfall.Theeconomynot\"landing\"thisyear—i.e.slowingconsiderablyorfallingintorecession—doesn\\'tmeanitwon\\'thappen.Itjustmeansithasn\\'thappenedyet.AsearningsseasoncoolsdownandthenextFedpolicymeetinginmid-March',\n",
              "  'Weareexperiencingsometemporaryissues.Themarketdataonthispageiscurrentlydelayed.Pleasebearwithusasweaddressthisandrestoreyourpersonalizedlists.Bitcoinfellmorethan7%onThursdaytoapproachthe$20,000levelandneara7-weeklow.Biden\\'sbudgetproposalrolledoutThursdayincludedanewprovisionthatwouldclosealoopholecurrentlyavailabletocryptoinvestorsthatcouldraiseupto$24billioninrevenue.BitcoinandotherleadingcryptocurrenciesslidFridaymorninginAsia,trackingequitiesamidredflagsoninterestratesandconcernaboutfalloutfromtheSilvergatecollapse.Bitcoin,ether,andsharesofCoinbasewereamongthecryptoassetsthattumbledThursdayfollowingturmoilatcryptobankSilvergate.TheCanadianminingfirmhaspulled7,000machinesfromasiteduetolitigationandistroubledby\"electricalissues\"atanothersite.PresidentJoeBidenonThursdaycalledforendingtaxsubsidiesforcryptocurrencyinvestors,therealestateindustryandtheoilandgassector,asheformallyrolledouthisproposedbudgetforthe2024fiscalyear.Bidenisaimingfor“cuttingwastefulspendingonBigPharma,BigOilandotherspecialinterests,”saidShalandaYoung,directorofthepresident’sOfficeofManagementandBudget,duringacallwithreporters.Bidenwillproposechangingthetaxtreatmentofcryptocurrencytransactions,whichcouldraise$24billion,TheWallStreetJournalreported.TheBitcoingamingcompany’slatestproductwillallowplayerstotesttheirproblemsolvingskillsagainstotherstowinbitcoin.Thebullishreversalpatternwouldopendoorsfora50%pricerally,chartanalystssaid.BitcoinandEtherfellineveningtradinginAsiaThursday,withXRPthesolegainerin24hoursamongthetop10non-stablecoincryptocurrenciesbymarketcap.EthereumUSDTesla,Inc.DogecoinUSDNetflix,Inc.MetaPlatforms,Inc.',\n",
              "  'Thankyouforyourpatience.Ourengineersareworkingquicklytoresolvetheissue.',\n",
              "  'Jointhemostimportantconversationincryptoandweb3!SecureyourseattodayBitcointradersaretakingabreatherandconsideringtheirnextstepsasthemarketdigeststhecollapseofSilvergateBank,whichculminatedinits“voluntaryliquidation”WednesdayU.S.time.CryptoQuantdatashowsthattransfervolume,denominatedinBTC,isdown35%overthelast24hours.Atthesametime,thetotalnumberoftransactionsontheBitcoinblockchainhasdroppedby17%duringthissametimeperiod,andthenumberofactiveaddresseshasfallenby10%.ForthemonthofMarch,bitcointradingvolumehascomeinatanaverageofaround$25billion,accordingtodatafromCoinGecko,versusaround$36billionforthemonthofFebruary.“Coupledwiththedropinthepriceofbitcoin,wehaveseenanoticeabledropintradingvolumes,too,acrosstheecosystemwhennewsaboutSilvergate’sfinancialdifficultiesbroke,”GuilhemChaumont,CEOofParis-basedmarketmakerandbrokerageFlowdesk,toldCoinDeskinanote.Silvergatewasoneofthemajorfiatpaymentrailsinthecryptomarket,offeringtraditionalbankingservicestoexchangesandmarketmakers.Assuch,tradingvolumeshavedwindledsinceSilvergate’sproblemsbecamepublic.Chaumontsaidtradinghassincethenbeenquiet,andsuggeststhefirstshockhasbeenpricedinwhiletradersdigestthesituation.“Itcertainlyhasa‘calmbeforethestorm’feeltoit.Sothemarketisnotshakingitoff–FTXhasmadeusallverymuchawarethatanythingcanhappen,”hesaid.“However,thesituationcanstillgoeitherway–meaningthatifnewsaboutareassuringresolutioncame,theconfidencethatcharacterizedthefirsttwomonthsof2023couldreturn.”Silvergate’sdemisemightacceleratetheshifttowardtradingpairsdenominatedinthedollar-peggedstablecoinsliketether(USDT).\"WiththedeathofSilvergate,stablecoinswilllikelybecomeevenmoreubiquitousamongtraders.Ratherthandeposityourdollarswithanexchange,youdepositthemwithastablecoinissuer,receivestablecoinsandthentransferthosetoanexchange,\"analystsatParis-basedcryptodataproviderKaikosaidinanoteonMonday.MostofthetradingvolumeisalreadyconcentratedinUSDTpairs.DatatrackedbyKaikoshowBTC/USDTpairsaccountforover90%ofthetradingvolume,upfrom3%in2017.Atthesametime,thenumberofnewcrypto-USDTpairlistingshasbeenfalling.USDTdailyvolumeiscurrentlyatanaverageof$32.3billionperday',\n",
              "  'Weareexperiencingsometemporaryissues.Themarketdataonthispageiscurrentlydelayed.Pleasebearwithusasweaddressthisandrestoreyourpersonalizedlists.',\n",
              "  'Thankyouforyourpatience.Ourengineersareworkingquicklytoresolvetheissue.',\n",
              "  'BitcoinfellbelowtheUS$22,000supportlineinThursdaymorningtradinginAsia,with\\xa0EtherandmostotherleadingcryptocurrencieslosinggroundafterU.S.cryptobankSilvergatesaiditwillvoluntarilyliquidate.Thebankhasteeteredonthebrinkofinsolvencyforweeks,becominganothervictimoftheFTXexchangecollapselastNovember.Solanaledthelosersamongthetop10cryptocurrenciesbymarketcapitalizationandthetotalindustrycapitalizationfellunderUS$1trillion.XRProse.U.S.equitiesclosedmixedonWednesday,unnervedbytheprospectofinterestratesmovinghigherthanexpectedthisyear.Seerelatedarticle:SilvergateteetersasregulatorscircleandcryptofirmscuttiesBitcoinfell2.34%inthepast24hourstoUS$21,729asof09:00a.m.inHongKong,accordingtoCoinMarketCapdata,bringingitslossforthelastsevendaysto8.06%.However,thebiggesttokenbymarketcapitalizationisstillupmorethan30%fortheyearsofarafterastrongstartto2023followingtheslumplastyearamidcryptoindustrybankruptciesandscandal.Ether,thesecond-largestcryptocurrency,fell1.99%toUS$1,535,bringingitsweeklylossto7.55%.Though,likeBitcoin,it’sholdinggainsfortheyearsofar,up28%.Solanaledthelosers,falling8.86%toUS$18.49topostaseven-daylossof17.49%XRPcontinueditsupwardtrenddespitetheSilvergateBankwoesinthebroadermarket,rising2.69%toUS$0.39.StuartAlderoty,thechieflegalofficerofXRP-poweredcryptopaymentnetworkRippleLabs,tweetedonWednesdaythatthecourtsupportedsomeofRipple’sdefensesinthelawsuitbroughtagainstthecompanybytheU.S.SecuritiesandExchangeCommission.“Wehavealwaysfeltconfidentaboutourcaseandwitheachruling,evenmoreso,”saidAlderotyinthetweet.Thetokengained2.50%overtheseven-dayperiod.ShibaInudipped0.55%inthepast24hours,butstillmanagedtounseatLitecoinasthe10thlargestnon-stablecoincryptocurrencybymarketcapitalization.ThepriceofthememetokenbrieflysurgedonWednesday,followinganannouncementthatShibarium–aShibaInulayer-2blockchainforWeb3andgaming—willlaunchitsbetaversionthisweek.SilvergateCapitalCorp.announcedonWednesdayitintendedtoshutdownitsoperationsandliquidateSilvergateBank,aCalifornia-basedlenderthatservedthecryptoindustry,duetothemountingfinanciallossesandregulatoryinvestigationsitfaces.Thetotalcryptomarketcapitalizationdropped2.26%inthepast24hourstoUS$995.70billion.Total',\n",
              "  'OnTuesday,sharesofGrayscale\\'sBitcoinTrust(GBTC)roseasmuchas16%followinganoralargumenthearinginthecompany\\'slawsuitagainsttheSEC.AsofMonday,sharesofGrayscale\\'sBitcoinTrusttradedata42%discounttothevalueofbitcoinheldbytheTrust,accordingtodatafromYahooFinanceandYCharts.Bitcoin(BTC-USD)falling1%againstGBTC\\'srallyonTuesdayshowsthisdiscountnarrowedduringTuesday\\'shearing.WithnorulingforGrayscale\\'scaseexpectedforatleastseveralmonthstheassetmanagermaintainswinningitslawsuitagainsttheSECisitsbestpathforpullingmanyofitsshareholdersbacktobreakeven.SuchawincouldalsoopenthegateforspotbitcoinETFstobeboughtbyU.S.retailinvestors.BeforetheU.S.CourtofAppealsfortheWashingtonD.C.CircuitonTuesday,Grayscaledeliveredoralargumentsforitscase,callingtheSEC\\'sdecisiontonotapproveitsETFapplicationthe\"definitionofarbitrarydecisionmaking.\"DonVerrilli,aformerU.S.SolicitorGeneralhiredbyGrayscaleforthelawsuit,notedthatonthegroundsthebitcoinfuturesandbitcoinspotmarketsarefundamentally\"like\"products,theSECundercurrentChairGaryGenslerhasbeeninconsistentinitsdecision-making.Citinga\"99.9%correlation\"betweenthebitcoinfuturesandbitcoinspotmarkets,Verillisaidtheproductsarethesame.\"Thekeyempiricalquestioniswhetherfraudandmanipulationinthe[bitcoin]spotmarketimpactsCME[bitcoin]futuresinthesameway,\"EmilyTrueParise,anattorneyfortheSEC,toldthehearing\\'spanelofthreejudges.\"And...wedon\\'thaveconclusivedata.\"WhilequestioningParise,JudgeSriSrinivasansuggestednomatterwheremanipulationoccurs,\"likethenightfollowstheday,\"bothmarketswouldbeimpacted.IfGrayscaleweretobegrantedapproval,federalJudgeNeomiRaoaskedwhethertheSECwould,\"approveaspotproduct,orwoulditgobackonitsapprovalofthefuturesproduct?\"TheSEC\\'sattorneysaidshecouldnotspeaktowhattheCommissionwoulddecide.\"Butcertainly,ifyoudisagreewiththeCommission\\'spositionhere...thecommissionwouldhavetothinkabouttheissuesanew,\"theattorneyadded.AlongwithGrayscale,morethanadozenotherassetmanagershavesoughtbitcoinETFapprovaltonoavailsince2020includingVanEck,WisdomTree,Fidelity,andARKInvest.However,formanyshareholdersofthe$14billionGrayscalebitcointrust,thestakesarealsoaboutgettingbacklossesthathaveemergedfromtheperpetualdiscountto',\n",
              "  'Bitcoin(BTC-USD)fellmorethan7.5%lateThursdayto$20,300,asevenweeklowforthelargestcryptocurrency.“Thisremainsatoughenvironmentforcrypto.Bitcoincouldseefurthersellingpressuretestthe$20,000level,”EdwardMoya,aseniormarketanalystwithOandasaid.Ether(ETH-USD)isdownbythesameamountofthisperiod,currentlychanginghandsat$1,439percoin.Crypto’stotalmarketcapitalizationfellmorethan6%throughThursdayfrom$1trillionto$942billionasmeasuredbyCoinmarketcap.CryptoinvestorsandbusinessesaregrapplingwithwhattheliquidationofSilvergateCapital(SI),acrucialU.S.bankingpartner,couldmeanforthecryptoassetclass’accesstodollars.\"Itwon’tbeasmoothtransitionfortheindustryatall,\"NoelleAcheson,authoroftheCryptoIsMacroNownewsletter,toldYahooFinance.SilvergateofferedapaymentsnetworkthatallowedcustomerstoexchangeU.S.dollarsbetweenaccounts24/7tomatchtheliquidityneedsofthecryptomarket.ThebanksuspendedtheofferinglastFriday.Theothermostamenablebanktocryptofirms,SignatureBank(SBNY),isalsoactivelyreducingitsexposuretodigitalassetbusiness.\"IfsmallbankssuchasCustomersandPathward(formerlyMetaBank)don’tstepintofillthegap,otheralternativesincludetheEuroandnon-dollarbackedstablecoins,ConorRyder,\"ananalystforKaikosaidThursday.\"It\\'sablowtotheecosystembutitsunlikelytobeapermanentone,\"Achesonadded.CryptomarketswerealsounderpressureThursdayasbroaderfinancialstressesinthebankingsectoremergedamidnewchallengesasSiliconValleyBank,newswhichsentsharesofitsparentcompanySVBFinancialdown60%onThursdayasthebenchmarkS&P500fellsome1.8%.Elsewhere,theBidenAdministrationisproposingtoraise$24billionfortheU.S.governmentbyclosingataxloophole.Theloopholeallowsinvestorstoharvesttheircryptolossestooffsetcapitalgainsandincomeforindividuals.\"Asothercountriesarebringingcryptosafelyintotheregulatoryperimeter,weshouldbedoingthesame,\"saidPaulGrewal,Coinbase\\'schieflegalofficer,beforeaU.S.HouseFinancialServicesCommitteeThursdayafternoon.LargestamongU.S.cryptofirms,Coinbase(COIN)hasseveralbankingpartnersandisnotatimmediateriskfromSilvergate’sliquidationgiventheexchangeendedbusinesswiththefirmlastweek.Evenso,CFRAResearchhaschosentomaintainitsholdratingonsharesofCoinbaseatneutral.\"AlthoughCOINhasmoremeasuredexposuredirectlytoSI,indirectimpactsaroundthehealthoflike-kind',\n",
              "  'Jointhemostimportantconversationincryptoandweb3!SecureyourseattodayThepriceofbitcoin(BTC)hasfallenbelowthe$20,000levelforthefirsttimesincemid-Januaryasawaveofbearishnewshasoverwhelmedcrypto\\'sstrong2023uptrend.ThelargestcryptocurrencybymarketcapitalizationquicklyregainedsomeofitslostgroundlateThursday(ET)andwasrecentlyhoveringatabout$20,040,down7.7%overthepast24hours.Afterreachingarecordhighover$69,000inNovember2021,bitcointumbledlatethatyearandallthrough2022tobegin2023ataround$16,600.Apowerfulrallyintomid-Februaryhadbitcoinaheadmorethan50%fortheyearatonepointto$25,000.Eventssince,though,havegivenamplereasonsforsellerstoemerge.Amongthemwasastronger-than-expectedinflationreportthatcalledintoquestiontheU.S.centralbank\\'searly2023assertionthatadisinflationtrendhadbegun.TheFederalReserveitselfhasacknowledgedasmuch,withitsChairJeromePowellearlierthisweektellingCongressthatthecentralbankhasfarmoreworktodotobringinflationbacktoits2%target.Inadditiontointerestratefears,therewasthecollapseofcrypto-friendlylenderSilvergateBankonWednesdayevening.AlsoonWednesday,theU.S.DepartmentofJusticemoved49,000bitcoinseizedfromdarknetmarketplaceSilkRoadtonewaddresses,suggestingthatthegovernmentmayhaveinterestinsoonsellingthatsizablestash.\"SilvergateisoneofseveralfactorsinBitcoin’sundersidetest,\"JoeDiPasquale,CEOofcryptofundmanagerBitBullCapital,wroteinanemailtoCoindesk.\"InadditiontoSilvergate,thereismarketconcernofgreaterinterestratehikesbytheFOMCandsofteningstockmarketprices.TheSECalsoshowsincreasingscrutinyofcrypto.Takentogether,themarkethascontinuedtotightenandretestsupportlevels.\"DiPasqualeadded:\"AswehavestatedsinceJanuary,webelieveitwilltestitssupportunder$20Kbeforemovingupagain.Wesee$18kasthenextmajorlevelofsupport.\"JamesRubincontributedreportingtothisstory.UPDATE(March9,2023,1:10UTC):Addsmostrecentbitcoinpricing.RelatedQuotes',\n",
              "  'Thankyouforyourpatience.Ourengineersareworkingquicklytoresolvetheissue.',\n",
              "  'Weareexperiencingsometemporaryissues.Themarketdataonthispageiscurrentlydelayed.Pleasebearwithusasweaddressthisandrestoreyourpersonalizedlists.OrdinalinscriptionshitanewdailypeakThursdayaftersomeonefiguredouthowtomintaformof\"fungibletokens\"onBitcoin.TheForkast500NFTIndexfelltoaneartwo-monthlowinAsiatradingonFridaymorning,withsalesslumpingontheEthereumandSolanablockchains,thetwobiggestfornon-fungibletokens.Polygon,thethirdbiggest,sawasalessurge.BitcoinandotherleadingcryptocurrenciesslidFridaymorninginAsia,trackingequitiesamidredflagsoninterestratesandconcernaboutfalloutfromtheSilvergatecollapse.Intheracetotamecrypto\\'sexcesses,weneedtoavoidregulatoryclasheswhileDeFidrawslessonsfromTradFi,writesRachelLinofSynFutures.ALSO:CoinDeskanalystGlennWilliamswritesthatdespitethecryptomarket\\'srecentproblems,bullishsentimentseemstobeprevailingamongholdersoffuturescontracts.AhawkishFed,thedemiseofcrypto-friendlySilvergateBank,andapossiblegovernmentsaleofSilkRoad-relatedbitcoinhaveinvestorsamplereasontosell.ThelargestlongliquidationinatleastamonthsuggeststhatThursday’scrashincryptopricescaughttradersoff-guard.Bitcointraderssufferedthemostlosses,some$112millioninthepast24hours,whileetherliquidationssurpassed$73million,perdatafromCoinglass.Bitcoinfellmorethan7%onThursdaytoapproachthe$20,000levelandneara7-weeklow.Aprovisioninthedepartment’s“Greenbook,”itslistoftaxproposalsandexplanationsforU.S.PresidentJoeBiden’sbudgetproposal,wouldcreateaphased-inexcisetaxbasedonthecostsoftheelectricityusedincryptomining,imposedonthecompanies“usingcomputingresources”tominecryptocurrencies.TheGQ3NFTpassesarenowsellingforabouthalftheoriginalpriceasthemen’slifestylemagazinesaysitwillrewardholders.',\n",
              "  'Jointhemostimportantconversationincryptoandweb3!SecureyourseattodayU.S.authoritiestransferred$1billionworthofbitcoin(BTC)recoveredfromadarkwebhacktonewwalletaddresses,includingoneownedbyCoinbase,onWednesday,stokinginvestorfearsthatintensesellpressurescoulddrivedownthetoken\\'sprice.Authoritiesmovedthebitcoininthreetransactions,accordingtodatafromblockchainsecurityfirmPeckShield.Nearly10,000bitcoinweresenttoCoinbase-controlledwallets,whileroughly$41,000tokensweredirectedtogovernment-controlledwallets.PeckShieldpublisheditsfindingsonTwitterearlyWednesday,andinvestorswerequicktonotice.Inthehoursafterthereport\\'srelease,investorsexpressedtheirfearsthatauthoritieswouldselltherecoveredbitcoinontheopenmarket,potentiallytankingthepriceofbitcoin,whichhasrecoveredfromitstwo-yearlowofroughly$15,500inNovember.Theconcernscausedbitcoin\\'spricetodiproughly2%,pushingitbelow$22,000.Anopenmarketsalewouldbeadeparturefromauthorities\\'pasthandlingsofseizeddigitalassets.Thegovernmentusuallysellsseizedassetsatauction.In2014and2015,thegovernmentauctionedoffbitcoinseizedfromtheownerofvirtualblackmarketplatformSilkRoad.Althoughconcernsaboutthetokens\\'saleontheopenmarketmaybeoverblown,fearsthatbitcoinpricescouldtakeahitarenotentirelyunjustified,saidConorRyder,aresearcheratcryptomarketsanalysisfirmKaiko.\"ThemovementofSilkRoadbitcointoCoinbaseisalmostdefinitelybeingdonewiththeintentiontosell[therecoveredtokens],soonehastowonderifbitcoinisdueforsomeshort-termheadwinds,\"RydertoldCoinDesk.Whetherthemarketwillabsorbthosepressureswilllikelyboildowntothemarket\\'scomposition,saysMarkConnors,headofresearchat3iq,adigitalassetmanager.Inotherwords,whothetokenholdersareandhowmanytokenstheyholdwilllargelyinfluencetheextenttowhichthemarketreactstoapotentialmarket-movingevent.Thecurrentcompositionofthebitcoinmarketmayhelpbitcoinstanduptosellpressuresbetterthanitdidinthewakeoflastspring\\'sTerracrash,accordingtoConnors.That\\'sbecausethemarkethaslessleveragethanitdidlastyear.It\\'salsobecausethemarkettodayiscomposedofmoreinvestorsowningwalletsholdingmorethan$1,000worthoftokensthanitwaslastyear,whenthemarketwasfloodedwithalargeamountofcrypto-curiousinvestorswhoheldmuchsmalleramounts',\n",
              "  'Cryptoinvestorsmightwanttosecureallrelevanttaxinformationthisseason:theIRSandtheSecurityandExchangeCommission(SEC)arepayingextraattentiontodigitalassets.\"Giventhatcryptodoeshaveatargetonitsback,\"TerrenceYang,SwanBitcoinmanagingdirector,toldYahooFinanceLIVE(Videoabove),\"makesureyoucollectdocumentationonsalesandincryptoinvestmentsthatwenttozero,asmanyofthemdidlastyearwhenthebubbleburst.\"Yang\\'sadvicecameaslastyear’s“cryptowinter”wipedoutinvestors,wholostmuchvalueintheircryptocurrenciesasthemarketplungedmorethan60%sincetheNovember2021highsanddecimatedover$2trillionmarketvalue.Andwhilemostpeoplepaidasizablebillforheftycapitalgainsin2021,manyweresurprisedtolearnthatcapitallossescouldbelimitedontaxreturns.Tohelpalleviateinvestors’painofcryptolossesandlimitedtaxbenefits,Yangrecommendedhiringanaccountantandgivingthemenoughtimeto\"thinkoftaxdeductionsandcredits.\"Inaddition,Yangsuggestedinvestorsmake\"lemonadeoutoflemon\"byharvestingBitconcapitallosses.Harvest?ThecryptoexecutiverecommendedthatBitcoininvestorsharvesttheirlossesforthefuture—thismeanstaxpayerswhogeneratedunrealizedlossesinBitcoincanselltheirBitcoinsandthenrebuythem,aprocessthatcreatesacapitallossontheirreturns.AlthoughtheIRShasrulesandlimitationsoncapitallossusage,anyremainingcapitallossescanberolledforwardtoothertaxyears.\"Alotofussaw…unrealizedlossesinourBitcoinexposurebecausemanyofusboughtduringthebullmarket,duringthehypein2021,\"saidYang.\"Youcouldsellimmediately,rebuyandlockinthattaxbenefitbyrealizingyourcapitalloss.\"However,thisbenefitonlyappliestoBitcoin,notthemajorityofothercryptocurrencies.BitcoiniscurrentlyregulatedasacommoditywhilethemajorityofothercryptocurrenciesaregenerallyclassifiedassecuritiesundertheSECthataresubjecttothewashsalesrule.\"InthepastIwouldhavesaidcrypto[alongwithBitcoin],\"saidYang,\"butgiventhattheSECandtheIRSaretakinganewandmoreaggressivelookatandconsideringthemsecurities,youactuallycan\\'trebuycryptoimmediatelybecauseyouwouldviolatetheSEC\\'s30daywashsalerule.\"Regardlessofwhatdigitalassetholdersdowiththeirvirtualcoins,Yangremindedinvestorsthatforthistaxseason,\"yourgoalshouldbe',\n",
              "  'Jointhemostimportantconversationincryptoandweb3!SecureyourseattodayThefuturelooksbrightforthebatteredGrayscaleBitcoinTrustshares(GBTC),atechnicalanalysttoldCoinDesk,pointingtoaninverseorreversehead-and-shoulderspatternonGBTC\\'spricechart.Thereversehead-and-shouldersstructureisidentifiedbythreepricetroughsformedalongaresistanceline,withthemiddletroughbeingthelowestandtheothertworelativelysmallerandsimilarindepth.Theoccurrenceofthepatternafteraprolongedandnotabledowntrend,asinGBTC\\'scase,issaidtosignalapotentialbullishtrendreversal.Thebullishshiftisconfirmedoncepricestopthecommonresistanceline,calleda\"neckline\"bytechnicalanalysts.GBTCjumpedtoasix-monthhighof$13.54Wednesday,testingthenecklineresistanceofthereversehead-and-shoulderspatternonthedailychart.Acloseabovethenecklinehurdlewouldconfirmthebreakout,openingthedoorsforfurthergains.\"Bothanatomicallyandstructurally,wedorecognizeaninversehead-and-shoulderspatternnecklinedaround$13.00,\"GoncaloMoreira,acharteredmarkettechnicianandauthorofVocabTA,said.\"Thereversalformationwouldbefullyconfirmedwithadailycloseabovethislevel,withameasuredobjectiveat$19.00,almosta50%gain,\"Moreiraadded.GrayscaleisasubsidiaryofDigitalCurrencyGroup,CoinDesk\\'sparentcompany.ThebullishpatternhasbeeninthemakingsinceearlySeptemberandcomesafteramorethan80%priceslide.Abreakoutandasubsequentexpectedrallyto$19wouldfillthepricegapbetween$15and$18createdinJunelastyearwhenthesharesweretrendingsouth.GBTChasralliedmorethan17%thisweek,decouplingfromweaknessinbitcoin\\'s(BTC)price,thankstotheU.S.courtquestioningtheSecuritiesandExchangeCommission\\'srejectionofGrayscale\\'sattemptstoconvertthetrustintoaspot-basedexchange-tradedfund.OnTuesday,thepanelofappealscourtjudgesappearedtobeskepticalofSEC\\'slogicofdrawingadistinctionbetweenbitcoinspotmarketprices,whichitconsiderspronetomanipulationandfuturesmarketpriceswhilerejectingGrayscale\\'sspot-basedETFs.ThathasrevivedhopesofaneventualvictoryforGrayscaleandthelaunchofaspot-basedETF.\"Ifjudgesturnmorefavorable,thenthereisthechancethatGBTCTrustsharescanbeconvertedintoanETF.Inthatcase,thediscountinGBTCsharesrelativetothefund\\'snetassetvaluecouldbequicklyarbitragedaway,andthat\\'swhyGBTCsharesarerallyingnow,\"MarkusThielen,head',\n",
              "  'Weareexperiencingsometemporaryissues.Themarketdataonthispageiscurrentlydelayed.Pleasebearwithusasweaddressthisandrestoreyourpersonalisedlists.Bitcoinfellmorethan7%onThursdaytoapproachthe$20,000levelandneara7-weeklow.Biden\\'sbudgetproposalrolledoutThursdayincludedanewprovisionthatwouldclosealoopholecurrentlyavailabletocryptoinvestorsthatcouldraiseupto$24billioninrevenue.TheCanadianminingfirmhaspulled7,000machinesfromasiteduetolitigationandistroubledby\"electricalissues\"atanothersite.TheBitcoingamingcompany’slatestproductwillallowplayerstotesttheirproblemsolvingskillsagainstotherstowinbitcoin.Thebullishreversalpatternwouldopendoorsfora50%pricerally,chartanalystssaid.Kwenta,whichusesSynthetix’sinfrastructureforitsperpetualproduct,hasseentradingvolumessurgeinthepastfewweeks.SilvergatesaidlateWednesdayitwouldwinddownoperationsafterarunonthebankcausedbycryptooutflowsledtomountinglossesforthefirm.CraigSalmdiscusseswhatscenarioislikelytoplayoutforthefirm’songoingbidtogainapprovalforitsspotBitcoinETFfollowingTuesday’sappealscourthearing.CelsiusNetworkestablishedacryptowalletwith$25millionofcryptoassetsforthelender’scustodyaccountholderstowithdraw,ArkhamIntelligencesaidinareport.Eligiblecustomershavewithdrawnsome$17.7millionofcryptoassets,thefirm’schiefexecutivesaidinaWednesdaycourthearing.TheFCAbeganenforcingitsproclamationthatcryptoATMsareillegallastmonth,inspectingsitesinthenortherncityofLeeds.EthereumUSDTesla,Inc.DogecoinUSDNetflix,Inc.MetaPlatforms,Inc.']}"
            ]
          },
          "metadata": {},
          "execution_count": 90
        }
      ]
    },
    {
      "cell_type": "code",
      "source": [
        "#Refer to the solo article solo testing section to understand the model\n",
        "def summarize_all_articles(articles):\n",
        "    summaries = []\n",
        "    for article in articles:\n",
        "        input_ids = model.tokenizer.encode(article, return_tensors='pt')\n",
        "        output = model.generate(input_ids, max_length=55, num_beams=5, early_stopping=True)\n",
        "        summary = model.tokenizer.decode(output[0], skip_special_tokens=True)\n",
        "        summaries.append(summary)\n",
        "    return summaries\n",
        " \n",
        "summaries = {ticker:summarize_all_articles(articles[ticker]) for ticker in monitored_tickers}\n",
        "summaries"
      ],
      "metadata": {
        "colab": {
          "base_uri": "https://localhost:8080/",
          "height": 226
        },
        "id": "zCK5ah3MCayX",
        "outputId": "a62790fb-0955-495b-91a9-db3b0b31170b"
      },
      "execution_count": 1,
      "outputs": [
        {
          "output_type": "error",
          "ename": "NameError",
          "evalue": "ignored",
          "traceback": [
            "\u001b[0;31m---------------------------------------------------------------------------\u001b[0m",
            "\u001b[0;31mNameError\u001b[0m                                 Traceback (most recent call last)",
            "\u001b[0;32m<ipython-input-1-39004b0093a5>\u001b[0m in \u001b[0;36m<module>\u001b[0;34m\u001b[0m\n\u001b[1;32m      9\u001b[0m     \u001b[0;32mreturn\u001b[0m \u001b[0msummaries\u001b[0m\u001b[0;34m\u001b[0m\u001b[0;34m\u001b[0m\u001b[0m\n\u001b[1;32m     10\u001b[0m \u001b[0;34m\u001b[0m\u001b[0m\n\u001b[0;32m---> 11\u001b[0;31m \u001b[0msummaries\u001b[0m \u001b[0;34m=\u001b[0m \u001b[0;34m{\u001b[0m\u001b[0mticker\u001b[0m\u001b[0;34m:\u001b[0m\u001b[0msummarize_all_articles\u001b[0m\u001b[0;34m(\u001b[0m\u001b[0marticles\u001b[0m\u001b[0;34m[\u001b[0m\u001b[0mticker\u001b[0m\u001b[0;34m]\u001b[0m\u001b[0;34m)\u001b[0m \u001b[0;32mfor\u001b[0m \u001b[0mticker\u001b[0m \u001b[0;32min\u001b[0m \u001b[0mmonitored_tickers\u001b[0m\u001b[0;34m}\u001b[0m\u001b[0;34m\u001b[0m\u001b[0;34m\u001b[0m\u001b[0m\n\u001b[0m\u001b[1;32m     12\u001b[0m \u001b[0msummaries\u001b[0m\u001b[0;34m\u001b[0m\u001b[0;34m\u001b[0m\u001b[0m\n",
            "\u001b[0;31mNameError\u001b[0m: name 'monitored_tickers' is not defined"
          ]
        }
      ]
    },
    {
      "cell_type": "code",
      "source": [
        "#Adding Sentiment Analysis to give a Negative/Positive score\n",
        "#-VE means the market is not good for the product\n",
        "#+VE means the market is good for the product/investment\n",
        "from transformers import pipeline\n",
        "sentiment = pipeline('sentiment analysis')\n",
        "\n",
        "scores ={ticker:summarize_all_articles(articles[ticker]) for ticker in monitored_tickers}\n",
        "scores"
      ],
      "metadata": {
        "id": "Dmzs1-yqcVuI",
        "colab": {
          "base_uri": "https://localhost:8080/",
          "height": 451
        },
        "outputId": "caa1c44d-0d39-478f-d3b9-f7304061066b"
      },
      "execution_count": null,
      "outputs": [
        {
          "output_type": "error",
          "ename": "KeyError",
          "evalue": "ignored",
          "traceback": [
            "\u001b[0;31m---------------------------------------------------------------------------\u001b[0m",
            "\u001b[0;31mKeyError\u001b[0m                                  Traceback (most recent call last)",
            "\u001b[0;32m<ipython-input-79-4bd63a80dbf7>\u001b[0m in \u001b[0;36m<module>\u001b[0;34m\u001b[0m\n\u001b[1;32m      3\u001b[0m \u001b[0;31m#+VE means the market is good for the product/investment\u001b[0m\u001b[0;34m\u001b[0m\u001b[0;34m\u001b[0m\u001b[0m\n\u001b[1;32m      4\u001b[0m \u001b[0;32mfrom\u001b[0m \u001b[0mtransformers\u001b[0m \u001b[0;32mimport\u001b[0m \u001b[0mpipeline\u001b[0m\u001b[0;34m\u001b[0m\u001b[0;34m\u001b[0m\u001b[0m\n\u001b[0;32m----> 5\u001b[0;31m \u001b[0msentiment\u001b[0m \u001b[0;34m=\u001b[0m \u001b[0mpipeline\u001b[0m\u001b[0;34m(\u001b[0m\u001b[0;34m'sentiment analysis'\u001b[0m\u001b[0;34m)\u001b[0m\u001b[0;34m\u001b[0m\u001b[0;34m\u001b[0m\u001b[0m\n\u001b[0m\u001b[1;32m      6\u001b[0m \u001b[0;34m\u001b[0m\u001b[0m\n\u001b[1;32m      7\u001b[0m \u001b[0mscores\u001b[0m \u001b[0;34m=\u001b[0m\u001b[0;34m{\u001b[0m\u001b[0mticker\u001b[0m\u001b[0;34m:\u001b[0m\u001b[0msummarize_all_articles\u001b[0m\u001b[0;34m(\u001b[0m\u001b[0marticles\u001b[0m\u001b[0;34m[\u001b[0m\u001b[0mticker\u001b[0m\u001b[0;34m]\u001b[0m\u001b[0;34m)\u001b[0m \u001b[0;32mfor\u001b[0m \u001b[0mticker\u001b[0m \u001b[0;32min\u001b[0m \u001b[0mmonitored_tickers\u001b[0m\u001b[0;34m}\u001b[0m\u001b[0;34m\u001b[0m\u001b[0;34m\u001b[0m\u001b[0m\n",
            "\u001b[0;32m/usr/local/lib/python3.9/dist-packages/transformers/pipelines/__init__.py\u001b[0m in \u001b[0;36mpipeline\u001b[0;34m(task, model, config, tokenizer, feature_extractor, framework, revision, use_fast, use_auth_token, device, device_map, torch_dtype, trust_remote_code, model_kwargs, pipeline_class, **kwargs)\u001b[0m\n\u001b[1;32m    713\u001b[0m             )\n\u001b[1;32m    714\u001b[0m     \u001b[0;32melse\u001b[0m\u001b[0;34m:\u001b[0m\u001b[0;34m\u001b[0m\u001b[0;34m\u001b[0m\u001b[0m\n\u001b[0;32m--> 715\u001b[0;31m         \u001b[0mnormalized_task\u001b[0m\u001b[0;34m,\u001b[0m \u001b[0mtargeted_task\u001b[0m\u001b[0;34m,\u001b[0m \u001b[0mtask_options\u001b[0m \u001b[0;34m=\u001b[0m \u001b[0mcheck_task\u001b[0m\u001b[0;34m(\u001b[0m\u001b[0mtask\u001b[0m\u001b[0;34m)\u001b[0m\u001b[0;34m\u001b[0m\u001b[0;34m\u001b[0m\u001b[0m\n\u001b[0m\u001b[1;32m    716\u001b[0m         \u001b[0;32mif\u001b[0m \u001b[0mpipeline_class\u001b[0m \u001b[0;32mis\u001b[0m \u001b[0;32mNone\u001b[0m\u001b[0;34m:\u001b[0m\u001b[0;34m\u001b[0m\u001b[0;34m\u001b[0m\u001b[0m\n\u001b[1;32m    717\u001b[0m             \u001b[0mpipeline_class\u001b[0m \u001b[0;34m=\u001b[0m \u001b[0mtargeted_task\u001b[0m\u001b[0;34m[\u001b[0m\u001b[0;34m\"impl\"\u001b[0m\u001b[0;34m]\u001b[0m\u001b[0;34m\u001b[0m\u001b[0;34m\u001b[0m\u001b[0m\n",
            "\u001b[0;32m/usr/local/lib/python3.9/dist-packages/transformers/pipelines/__init__.py\u001b[0m in \u001b[0;36mcheck_task\u001b[0;34m(task)\u001b[0m\n\u001b[1;32m    458\u001b[0m \u001b[0;34m\u001b[0m\u001b[0m\n\u001b[1;32m    459\u001b[0m     \"\"\"\n\u001b[0;32m--> 460\u001b[0;31m     \u001b[0;32mreturn\u001b[0m \u001b[0mPIPELINE_REGISTRY\u001b[0m\u001b[0;34m.\u001b[0m\u001b[0mcheck_task\u001b[0m\u001b[0;34m(\u001b[0m\u001b[0mtask\u001b[0m\u001b[0;34m)\u001b[0m\u001b[0;34m\u001b[0m\u001b[0;34m\u001b[0m\u001b[0m\n\u001b[0m\u001b[1;32m    461\u001b[0m \u001b[0;34m\u001b[0m\u001b[0m\n\u001b[1;32m    462\u001b[0m \u001b[0;34m\u001b[0m\u001b[0m\n",
            "\u001b[0;32m/usr/local/lib/python3.9/dist-packages/transformers/pipelines/base.py\u001b[0m in \u001b[0;36mcheck_task\u001b[0;34m(self, task)\u001b[0m\n\u001b[1;32m   1154\u001b[0m             \u001b[0;32mraise\u001b[0m \u001b[0mKeyError\u001b[0m\u001b[0;34m(\u001b[0m\u001b[0;34mf\"Invalid translation task {task}, use 'translation_XX_to_YY' format\"\u001b[0m\u001b[0;34m)\u001b[0m\u001b[0;34m\u001b[0m\u001b[0;34m\u001b[0m\u001b[0m\n\u001b[1;32m   1155\u001b[0m \u001b[0;34m\u001b[0m\u001b[0m\n\u001b[0;32m-> 1156\u001b[0;31m         raise KeyError(\n\u001b[0m\u001b[1;32m   1157\u001b[0m             \u001b[0;34mf\"Unknown task {task}, available tasks are {self.get_supported_tasks() + ['translation_XX_to_YY']}\"\u001b[0m\u001b[0;34m\u001b[0m\u001b[0;34m\u001b[0m\u001b[0m\n\u001b[1;32m   1158\u001b[0m         )\n",
            "\u001b[0;31mKeyError\u001b[0m: \"Unknown task sentiment analysis, available tasks are ['audio-classification', 'automatic-speech-recognition', 'conversational', 'depth-estimation', 'document-question-answering', 'feature-extraction', 'fill-mask', 'image-classification', 'image-segmentation', 'image-to-text', 'ner', 'object-detection', 'question-answering', 'sentiment-analysis', 'summarization', 'table-question-answering', 'text-classification', 'text-generation', 'text2text-generation', 'token-classification', 'translation', 'video-classification', 'visual-question-answering', 'vqa', 'zero-shot-classification', 'zero-shot-image-classification', 'zero-shot-object-detection', 'translation_XX_to_YY']\""
          ]
        }
      ]
    },
    {
      "cell_type": "code",
      "source": [
        "#Exporting the results to CSV"
      ],
      "metadata": {
        "id": "X_sdyfAtcZkH"
      },
      "execution_count": null,
      "outputs": []
    }
  ]
}